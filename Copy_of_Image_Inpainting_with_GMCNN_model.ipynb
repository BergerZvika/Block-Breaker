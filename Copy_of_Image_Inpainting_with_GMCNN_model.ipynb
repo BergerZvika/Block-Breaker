{
  "nbformat": 4,
  "nbformat_minor": 0,
  "metadata": {
    "colab": {
      "name": "Copy of Image Inpainting with GMCNN model.ipynb",
      "provenance": [],
      "collapsed_sections": [],
      "include_colab_link": true
    },
    "kernelspec": {
      "name": "python3",
      "display_name": "Python 3"
    },
    "accelerator": "GPU"
  },
  "cells": [
    {
      "cell_type": "markdown",
      "metadata": {
        "id": "view-in-github",
        "colab_type": "text"
      },
      "source": [
        "<a href=\"https://colab.research.google.com/github/BergerZvika/Block-Breaker/blob/main/Copy_of_Image_Inpainting_with_GMCNN_model.ipynb\" target=\"_parent\"><img src=\"https://colab.research.google.com/assets/colab-badge.svg\" alt=\"Open In Colab\"/></a>"
      ]
    },
    {
      "cell_type": "markdown",
      "metadata": {
        "id": "75pj38GgBMjC"
      },
      "source": [
        "# Download the current version of GMCNN pipeline from GitHub"
      ]
    },
    {
      "cell_type": "code",
      "metadata": {
        "id": "kqMxYG1O04bj",
        "colab": {
          "base_uri": "https://localhost:8080/"
        },
        "outputId": "db13798e-c168-49b0-e303-ba21bd6398a9"
      },
      "source": [
        "!git clone https://github.com/tlatkowski/inpainting-gmcnn-keras.git"
      ],
      "execution_count": null,
      "outputs": [
        {
          "output_type": "stream",
          "name": "stdout",
          "text": [
            "fatal: destination path 'inpainting-gmcnn-keras' already exists and is not an empty directory.\n"
          ]
        }
      ]
    },
    {
      "cell_type": "code",
      "metadata": {
        "id": "3vM1pdrC4v4M",
        "colab": {
          "base_uri": "https://localhost:8080/"
        },
        "outputId": "c7b8b24c-3cf1-4a9e-a9b3-5962a3a8acd4"
      },
      "source": [
        "!ls"
      ],
      "execution_count": null,
      "outputs": [
        {
          "output_type": "stream",
          "name": "stdout",
          "text": [
            "inpainting-gmcnn-keras\tsample_data\n"
          ]
        }
      ]
    },
    {
      "cell_type": "markdown",
      "metadata": {
        "id": "6ylxBANpCsBq"
      },
      "source": [
        "# Download and extract NVIDIA's testing mask dataset"
      ]
    },
    {
      "cell_type": "code",
      "source": [
        ""
      ],
      "metadata": {
        "id": "TZ2-gQAUXi9g"
      },
      "execution_count": null,
      "outputs": []
    },
    {
      "cell_type": "code",
      "source": [
        "\n"
      ],
      "metadata": {
        "id": "TtoCzlXyXlj2"
      },
      "execution_count": null,
      "outputs": []
    },
    {
      "cell_type": "code",
      "source": [
        ""
      ],
      "metadata": {
        "id": "ech99V3HXnsN"
      },
      "execution_count": null,
      "outputs": []
    },
    {
      "cell_type": "code",
      "metadata": {
        "id": "TtiBIw-81p1L",
        "colab": {
          "base_uri": "https://localhost:8080/"
        },
        "outputId": "43670616-cd8b-474e-dd2b-c61914085ee0"
      },
      "source": [
        "!wget http://masc.cs.gmu.edu/wiki/uploads/partialconv/mask.zip\n",
        "!unzip -q mask.zip"
      ],
      "execution_count": null,
      "outputs": [
        {
          "output_type": "stream",
          "name": "stdout",
          "text": [
            "--2022-03-14 07:44:44--  http://masc.cs.gmu.edu/wiki/uploads/partialconv/mask.zip\n",
            "Resolving masc.cs.gmu.edu (masc.cs.gmu.edu)... 129.174.125.37\n",
            "Connecting to masc.cs.gmu.edu (masc.cs.gmu.edu)|129.174.125.37|:80... connected.\n",
            "HTTP request sent, awaiting response... 200 OK\n",
            "Length: 45168987 (43M) [application/zip]\n",
            "Saving to: ‘mask.zip.2’\n",
            "\n",
            "mask.zip.2          100%[===================>]  43.08M  12.2MB/s    in 6.7s    \n",
            "\n",
            "2022-03-14 07:44:51 (6.39 MB/s) - ‘mask.zip.2’ saved [45168987/45168987]\n",
            "\n",
            "replace mask/readme.txt? [y]es, [n]o, [A]ll, [N]one, [r]ename: A\n"
          ]
        }
      ]
    },
    {
      "cell_type": "markdown",
      "source": [
        ""
      ],
      "metadata": {
        "id": "buU1EIkyXjub"
      }
    },
    {
      "cell_type": "code",
      "metadata": {
        "id": "Z9ZWmGDzZueM"
      },
      "source": [
        "!ls"
      ],
      "execution_count": null,
      "outputs": []
    },
    {
      "cell_type": "markdown",
      "metadata": {
        "id": "SYup2q5dGH-3"
      },
      "source": [
        "# Download and extract dataset with training images (Places356)"
      ]
    },
    {
      "cell_type": "code",
      "metadata": {
        "id": "QJIjYKU3Z3WO",
        "colab": {
          "base_uri": "https://localhost:8080/"
        },
        "outputId": "4d3e8849-7246-4d6d-81dd-d9413b2cb207"
      },
      "source": [
        "!git clone https://github.com/adielet/deep_learning_data.git\n",
        "!mkdir images \n",
        "!cp -a deep_learning_data/photo_jpg/ images/val_large"
      ],
      "execution_count": null,
      "outputs": [
        {
          "output_type": "stream",
          "name": "stdout",
          "text": [
            "fatal: destination path 'deep_learning_data' already exists and is not an empty directory.\n",
            "mkdir: cannot create directory ‘images’: File exists\n"
          ]
        }
      ]
    },
    {
      "cell_type": "code",
      "metadata": {
        "id": "8Jv1D6yfgcCJ",
        "colab": {
          "base_uri": "https://localhost:8080/"
        },
        "outputId": "3c794db7-d01b-4caf-a191-6fe11d06d777"
      },
      "source": [
        "!ls"
      ],
      "execution_count": null,
      "outputs": [
        {
          "output_type": "stream",
          "name": "stdout",
          "text": [
            "deep_learning_data  images  inpainting-gmcnn-keras  mask  mask.zip  sample_data\n"
          ]
        }
      ]
    },
    {
      "cell_type": "markdown",
      "metadata": {
        "id": "M4yk-v6cDKKy"
      },
      "source": [
        "# Install all requirements"
      ]
    },
    {
      "cell_type": "code",
      "metadata": {
        "id": "nuaRQHIUgkEt",
        "colab": {
          "base_uri": "https://localhost:8080/"
        },
        "outputId": "668bbc77-c194-48bd-a78e-8fa4935a6722"
      },
      "source": [
        "!pip install h5py\n",
        "!pip install typing-extensions\n",
        "!pip install wheel\n",
        "!pip install tensorflow-gpu==1.15.0\n",
        "!pip install -r inpainting-gmcnn-keras/requirements/requirements.txt"
      ],
      "execution_count": null,
      "outputs": [
        {
          "output_type": "stream",
          "name": "stdout",
          "text": [
            "Requirement already satisfied: h5py in /usr/local/lib/python3.7/dist-packages (2.9.0)\n",
            "Requirement already satisfied: numpy>=1.7 in /usr/local/lib/python3.7/dist-packages (from h5py) (1.21.5)\n",
            "Requirement already satisfied: six in /usr/local/lib/python3.7/dist-packages (from h5py) (1.15.0)\n",
            "Requirement already satisfied: typing-extensions in /usr/local/lib/python3.7/dist-packages (3.10.0.2)\n",
            "Requirement already satisfied: wheel in /usr/local/lib/python3.7/dist-packages (0.37.1)\n",
            "Requirement already satisfied: tensorflow-gpu==1.15.0 in /usr/local/lib/python3.7/dist-packages (1.15.0)\n",
            "Requirement already satisfied: gast==0.2.2 in /usr/local/lib/python3.7/dist-packages (from tensorflow-gpu==1.15.0) (0.2.2)\n",
            "Requirement already satisfied: protobuf>=3.6.1 in /usr/local/lib/python3.7/dist-packages (from tensorflow-gpu==1.15.0) (3.17.3)\n",
            "Requirement already satisfied: google-pasta>=0.1.6 in /usr/local/lib/python3.7/dist-packages (from tensorflow-gpu==1.15.0) (0.2.0)\n",
            "Requirement already satisfied: wrapt>=1.11.1 in /usr/local/lib/python3.7/dist-packages (from tensorflow-gpu==1.15.0) (1.13.3)\n",
            "Requirement already satisfied: six>=1.10.0 in /usr/local/lib/python3.7/dist-packages (from tensorflow-gpu==1.15.0) (1.15.0)\n",
            "Requirement already satisfied: tensorboard<1.16.0,>=1.15.0 in /usr/local/lib/python3.7/dist-packages (from tensorflow-gpu==1.15.0) (1.15.0)\n",
            "Requirement already satisfied: numpy<2.0,>=1.16.0 in /usr/local/lib/python3.7/dist-packages (from tensorflow-gpu==1.15.0) (1.21.5)\n",
            "Requirement already satisfied: astor>=0.6.0 in /usr/local/lib/python3.7/dist-packages (from tensorflow-gpu==1.15.0) (0.8.1)\n",
            "Requirement already satisfied: keras-preprocessing>=1.0.5 in /usr/local/lib/python3.7/dist-packages (from tensorflow-gpu==1.15.0) (1.1.2)\n",
            "Requirement already satisfied: grpcio>=1.8.6 in /usr/local/lib/python3.7/dist-packages (from tensorflow-gpu==1.15.0) (1.44.0)\n",
            "Requirement already satisfied: opt-einsum>=2.3.2 in /usr/local/lib/python3.7/dist-packages (from tensorflow-gpu==1.15.0) (3.3.0)\n",
            "Requirement already satisfied: absl-py>=0.7.0 in /usr/local/lib/python3.7/dist-packages (from tensorflow-gpu==1.15.0) (1.0.0)\n",
            "Requirement already satisfied: keras-applications>=1.0.8 in /usr/local/lib/python3.7/dist-packages (from tensorflow-gpu==1.15.0) (1.0.8)\n",
            "Requirement already satisfied: termcolor>=1.1.0 in /usr/local/lib/python3.7/dist-packages (from tensorflow-gpu==1.15.0) (1.1.0)\n",
            "Requirement already satisfied: wheel>=0.26 in /usr/local/lib/python3.7/dist-packages (from tensorflow-gpu==1.15.0) (0.37.1)\n",
            "Requirement already satisfied: tensorflow-estimator==1.15.1 in /usr/local/lib/python3.7/dist-packages (from tensorflow-gpu==1.15.0) (1.15.1)\n",
            "Requirement already satisfied: h5py in /usr/local/lib/python3.7/dist-packages (from keras-applications>=1.0.8->tensorflow-gpu==1.15.0) (2.9.0)\n",
            "Requirement already satisfied: markdown>=2.6.8 in /usr/local/lib/python3.7/dist-packages (from tensorboard<1.16.0,>=1.15.0->tensorflow-gpu==1.15.0) (3.3.6)\n",
            "Requirement already satisfied: werkzeug>=0.11.15 in /usr/local/lib/python3.7/dist-packages (from tensorboard<1.16.0,>=1.15.0->tensorflow-gpu==1.15.0) (1.0.1)\n",
            "Requirement already satisfied: setuptools>=41.0.0 in /usr/local/lib/python3.7/dist-packages (from tensorboard<1.16.0,>=1.15.0->tensorflow-gpu==1.15.0) (57.4.0)\n",
            "Requirement already satisfied: importlib-metadata>=4.4 in /usr/local/lib/python3.7/dist-packages (from markdown>=2.6.8->tensorboard<1.16.0,>=1.15.0->tensorflow-gpu==1.15.0) (4.11.2)\n",
            "Requirement already satisfied: zipp>=0.5 in /usr/local/lib/python3.7/dist-packages (from importlib-metadata>=4.4->markdown>=2.6.8->tensorboard<1.16.0,>=1.15.0->tensorflow-gpu==1.15.0) (3.7.0)\n",
            "Requirement already satisfied: typing-extensions>=3.6.4 in /usr/local/lib/python3.7/dist-packages (from importlib-metadata>=4.4->markdown>=2.6.8->tensorboard<1.16.0,>=1.15.0->tensorflow-gpu==1.15.0) (3.10.0.2)\n",
            "Requirement already satisfied: Keras==2.2.4 in /usr/local/lib/python3.7/dist-packages (from -r inpainting-gmcnn-keras/requirements/requirements.txt (line 1)) (2.2.4)\n",
            "Requirement already satisfied: pydot==1.4.1 in /usr/local/lib/python3.7/dist-packages (from -r inpainting-gmcnn-keras/requirements/requirements.txt (line 2)) (1.4.1)\n",
            "Requirement already satisfied: matplotlib==3.0.2 in /usr/local/lib/python3.7/dist-packages (from -r inpainting-gmcnn-keras/requirements/requirements.txt (line 3)) (3.0.2)\n",
            "Requirement already satisfied: h5py==2.9.0 in /usr/local/lib/python3.7/dist-packages (from -r inpainting-gmcnn-keras/requirements/requirements.txt (line 4)) (2.9.0)\n",
            "Requirement already satisfied: pillow==6.2.0 in /usr/local/lib/python3.7/dist-packages (from -r inpainting-gmcnn-keras/requirements/requirements.txt (line 5)) (6.2.0)\n",
            "Requirement already satisfied: opencv-python==3.4.3.18 in /usr/local/lib/python3.7/dist-packages (from -r inpainting-gmcnn-keras/requirements/requirements.txt (line 6)) (3.4.3.18)\n",
            "Requirement already satisfied: tqdm==4.31.1 in /usr/local/lib/python3.7/dist-packages (from -r inpainting-gmcnn-keras/requirements/requirements.txt (line 7)) (4.31.1)\n",
            "Requirement already satisfied: scikit-image==0.14.2 in /usr/local/lib/python3.7/dist-packages (from -r inpainting-gmcnn-keras/requirements/requirements.txt (line 8)) (0.14.2)\n",
            "Requirement already satisfied: pyyaml in /usr/local/lib/python3.7/dist-packages (from Keras==2.2.4->-r inpainting-gmcnn-keras/requirements/requirements.txt (line 1)) (3.13)\n",
            "Requirement already satisfied: keras-preprocessing>=1.0.5 in /usr/local/lib/python3.7/dist-packages (from Keras==2.2.4->-r inpainting-gmcnn-keras/requirements/requirements.txt (line 1)) (1.1.2)\n",
            "Requirement already satisfied: numpy>=1.9.1 in /usr/local/lib/python3.7/dist-packages (from Keras==2.2.4->-r inpainting-gmcnn-keras/requirements/requirements.txt (line 1)) (1.21.5)\n",
            "Requirement already satisfied: six>=1.9.0 in /usr/local/lib/python3.7/dist-packages (from Keras==2.2.4->-r inpainting-gmcnn-keras/requirements/requirements.txt (line 1)) (1.15.0)\n",
            "Requirement already satisfied: scipy>=0.14 in /usr/local/lib/python3.7/dist-packages (from Keras==2.2.4->-r inpainting-gmcnn-keras/requirements/requirements.txt (line 1)) (1.4.1)\n",
            "Requirement already satisfied: keras-applications>=1.0.6 in /usr/local/lib/python3.7/dist-packages (from Keras==2.2.4->-r inpainting-gmcnn-keras/requirements/requirements.txt (line 1)) (1.0.8)\n",
            "Requirement already satisfied: pyparsing>=2.1.4 in /usr/local/lib/python3.7/dist-packages (from pydot==1.4.1->-r inpainting-gmcnn-keras/requirements/requirements.txt (line 2)) (3.0.7)\n",
            "Requirement already satisfied: cycler>=0.10 in /usr/local/lib/python3.7/dist-packages (from matplotlib==3.0.2->-r inpainting-gmcnn-keras/requirements/requirements.txt (line 3)) (0.11.0)\n",
            "Requirement already satisfied: kiwisolver>=1.0.1 in /usr/local/lib/python3.7/dist-packages (from matplotlib==3.0.2->-r inpainting-gmcnn-keras/requirements/requirements.txt (line 3)) (1.3.2)\n",
            "Requirement already satisfied: python-dateutil>=2.1 in /usr/local/lib/python3.7/dist-packages (from matplotlib==3.0.2->-r inpainting-gmcnn-keras/requirements/requirements.txt (line 3)) (2.8.2)\n",
            "Requirement already satisfied: cloudpickle>=0.2.1 in /usr/local/lib/python3.7/dist-packages (from scikit-image==0.14.2->-r inpainting-gmcnn-keras/requirements/requirements.txt (line 8)) (1.3.0)\n",
            "Requirement already satisfied: dask[array]>=1.0.0 in /usr/local/lib/python3.7/dist-packages (from scikit-image==0.14.2->-r inpainting-gmcnn-keras/requirements/requirements.txt (line 8)) (2.12.0)\n",
            "Requirement already satisfied: PyWavelets>=0.4.0 in /usr/local/lib/python3.7/dist-packages (from scikit-image==0.14.2->-r inpainting-gmcnn-keras/requirements/requirements.txt (line 8)) (1.2.0)\n",
            "Requirement already satisfied: networkx>=1.8 in /usr/local/lib/python3.7/dist-packages (from scikit-image==0.14.2->-r inpainting-gmcnn-keras/requirements/requirements.txt (line 8)) (2.6.3)\n",
            "Requirement already satisfied: toolz>=0.7.3 in /usr/local/lib/python3.7/dist-packages (from dask[array]>=1.0.0->scikit-image==0.14.2->-r inpainting-gmcnn-keras/requirements/requirements.txt (line 8)) (0.11.2)\n"
          ]
        }
      ]
    },
    {
      "cell_type": "code",
      "source": [
        "from google.colab import drive\n",
        "drive.mount('/content/drive')"
      ],
      "metadata": {
        "colab": {
          "base_uri": "https://localhost:8080/"
        },
        "id": "JXisrwL7YaLI",
        "outputId": "c5096fab-75e0-4d77-dea0-99cb45af709d"
      },
      "execution_count": null,
      "outputs": [
        {
          "output_type": "stream",
          "name": "stdout",
          "text": [
            "Drive already mounted at /content/drive; to attempt to forcibly remount, call drive.mount(\"/content/drive\", force_remount=True).\n"
          ]
        }
      ]
    },
    {
      "cell_type": "code",
      "metadata": {
        "id": "qReehr_EGO9k",
        "colab": {
          "base_uri": "https://localhost:8080/"
        },
        "outputId": "86d99a71-c976-483c-fd69-5540643508fb"
      },
      "source": [
        "!wget https://bin.equinox.io/c/4VmDzA7iaHb/ngrok-stable-linux-amd64.zip\n",
        "!unzip ngrok-stable-linux-amd64.zip"
      ],
      "execution_count": null,
      "outputs": [
        {
          "output_type": "stream",
          "name": "stdout",
          "text": [
            "--2022-03-14 07:48:07--  https://bin.equinox.io/c/4VmDzA7iaHb/ngrok-stable-linux-amd64.zip\n",
            "Resolving bin.equinox.io (bin.equinox.io)... 52.202.168.65, 54.237.133.81, 18.205.222.128, ...\n",
            "Connecting to bin.equinox.io (bin.equinox.io)|52.202.168.65|:443... connected.\n",
            "HTTP request sent, awaiting response... 200 OK\n",
            "Length: 13832437 (13M) [application/octet-stream]\n",
            "Saving to: ‘ngrok-stable-linux-amd64.zip.1’\n",
            "\n",
            "ngrok-stable-linux- 100%[===================>]  13.19M  13.6MB/s    in 1.0s    \n",
            "\n",
            "2022-03-14 07:48:09 (13.6 MB/s) - ‘ngrok-stable-linux-amd64.zip.1’ saved [13832437/13832437]\n",
            "\n",
            "Archive:  ngrok-stable-linux-amd64.zip\n",
            "replace ngrok? [y]es, [n]o, [A]ll, [N]one, [r]ename: A\n",
            "  inflating: ngrok                   \n"
          ]
        }
      ]
    },
    {
      "cell_type": "code",
      "metadata": {
        "id": "Z5FivEGbGQDt"
      },
      "source": [
        "LOG_DIR = './outputs'\n",
        "get_ipython().system_raw(\n",
        "    'tensorboard --logdir {} --host 0.0.0.0 --port 6006 &'\n",
        "    .format(LOG_DIR)\n",
        ")"
      ],
      "execution_count": null,
      "outputs": []
    },
    {
      "cell_type": "code",
      "metadata": {
        "id": "ueWBJoNnGU46"
      },
      "source": [
        "get_ipython().system_raw('./ngrok http 6006 &')"
      ],
      "execution_count": null,
      "outputs": []
    },
    {
      "cell_type": "code",
      "metadata": {
        "id": "LRJVi6TnGV9W",
        "colab": {
          "base_uri": "https://localhost:8080/"
        },
        "outputId": "80b6c4d6-e586-46d7-85bf-ec974639203f"
      },
      "source": [
        "! curl -s http://localhost:4040/api/tunnels | python3 -c \\\n",
        "    \"import sys, json; print(json.load(sys.stdin)['tunnels'][0]['public_url'])\""
      ],
      "execution_count": null,
      "outputs": [
        {
          "output_type": "stream",
          "name": "stdout",
          "text": [
            "https://6100-34-140-109-46.ngrok.io\n"
          ]
        }
      ]
    },
    {
      "cell_type": "code",
      "metadata": {
        "id": "5Z5qBefT2vcX",
        "colab": {
          "base_uri": "https://localhost:8080/"
        },
        "outputId": "5f3a8b27-8272-4427-bfb5-73ec4fc2019b"
      },
      "source": [
        "!mkdir config\n",
        "!cp inpainting-gmcnn-keras/config/main_config.ini config"
      ],
      "execution_count": null,
      "outputs": [
        {
          "output_type": "stream",
          "name": "stdout",
          "text": [
            "mkdir: cannot create directory ‘config’: File exists\n"
          ]
        }
      ]
    },
    {
      "cell_type": "code",
      "metadata": {
        "id": "5BJ2eyDiG1Yi",
        "colab": {
          "base_uri": "https://localhost:8080/"
        },
        "outputId": "5e2348f7-59a4-4fa4-c72f-0438c390f383"
      },
      "source": [
        "%%writefile config/main_config.ini\n",
        "[TRAINING]\n",
        "WGAN_TRAINING_RATIO = 1\n",
        "NUM_EPOCHS = 5\n",
        "BATCH_SIZE = 4\n",
        "IMG_HEIGHT = 256\n",
        "IMG_WIDTH = 256\n",
        "NUM_CHANNELS = 3\n",
        "LEARNING_RATE = 0.0001\n",
        "SAVE_MODEL_STEPS_PERIOD = 1000\n",
        "\n",
        "[MODEL]\n",
        "ADD_MASK_AS_GENERATOR_INPUT = True\n",
        "GRADIENT_PENALTY_LOSS_WEIGHT = 10\n",
        "ID_MRF_LOSS_WEIGHT = 0.05\n",
        "ADVERSARIAL_LOSS_WEIGHT = 0.001\n",
        "NN_STRETCH_SIGMA = 0.5\n",
        "VGG_16_LAYERS = 3,6,10\n",
        "ID_MRF_STYLE_WEIGHT = 1.0\n",
        "ID_MRF_CONTENT_WEIGHT = 1.0\n",
        "NUM_GAUSSIAN_STEPS = 3\n",
        "GAUSSIAN_KERNEL_SIZE = 32\n",
        "GAUSSIAN_KERNEL_STD = 40.0"
      ],
      "execution_count": null,
      "outputs": [
        {
          "output_type": "stream",
          "name": "stdout",
          "text": [
            "Overwriting config/main_config.ini\n"
          ]
        }
      ]
    },
    {
      "cell_type": "code",
      "metadata": {
        "id": "SdfwO-_kS0_N",
        "colab": {
          "base_uri": "https://localhost:8080/"
        },
        "outputId": "bf28f696-1b86-4b62-8e91-e557d8375b96"
      },
      "source": [
        "!ls deep_learning_data/photo_jpg\n",
        "\n"
      ],
      "execution_count": null,
      "outputs": [
        {
          "output_type": "stream",
          "name": "stdout",
          "text": [
            "monet_jpg  photo_jpg\n"
          ]
        }
      ]
    },
    {
      "cell_type": "markdown",
      "metadata": {
        "id": "mHa6NzCNGsIF"
      },
      "source": [
        "# Train generator with only confidence reconstruction loss for 5 epochs"
      ]
    },
    {
      "cell_type": "code",
      "metadata": {
        "id": "_yLA-oDHl8qw",
        "colab": {
          "base_uri": "https://localhost:8080/"
        },
        "outputId": "11d2de0f-2bfd-42a3-8c8f-0c8018bd5d81"
      },
      "source": [
        "!python inpainting-gmcnn-keras/runner.py --train_path images --mask_path mask --experiment_name \"gmcnn256x256\" -warm_up_generator"
      ],
      "execution_count": null,
      "outputs": [
        {
          "output_type": "stream",
          "name": "stdout",
          "text": [
            "Using TensorFlow backend.\n",
            "WARNING:tensorflow:From /content/inpainting-gmcnn-keras/utils/training_utils.py:49: The name tf.logging.set_verbosity is deprecated. Please use tf.compat.v1.logging.set_verbosity instead.\n",
            "\n",
            "WARNING:tensorflow:From /content/inpainting-gmcnn-keras/utils/training_utils.py:49: The name tf.logging.INFO is deprecated. Please use tf.compat.v1.logging.INFO instead.\n",
            "\n",
            "WARNING:tensorflow:From /content/inpainting-gmcnn-keras/utils/training_utils.py:54: The name tf.logging.info is deprecated. Please use tf.compat.v1.logging.info instead.\n",
            "\n",
            "INFO:tensorflow:Setting visible GPU to 0\n",
            "INFO:tensorflow:Performing generator training only with the reconstruction loss.\n",
            "WARNING:tensorflow:From /usr/local/lib/python3.7/dist-packages/keras/backend/tensorflow_backend.py:74: The name tf.get_default_graph is deprecated. Please use tf.compat.v1.get_default_graph instead.\n",
            "\n",
            "WARNING:tensorflow:From /usr/local/lib/python3.7/dist-packages/keras/backend/tensorflow_backend.py:517: The name tf.placeholder is deprecated. Please use tf.compat.v1.placeholder instead.\n",
            "\n",
            "WARNING:tensorflow:From /usr/local/lib/python3.7/dist-packages/keras/backend/tensorflow_backend.py:4138: The name tf.random_uniform is deprecated. Please use tf.random.uniform instead.\n",
            "\n",
            "__________________________________________________________________________________________________\n",
            "Layer (type)                    Output Shape         Param #     Connected to                     \n",
            "==================================================================================================\n",
            "input_1 (InputLayer)            (None, 256, 256, 3)  0                                            \n",
            "__________________________________________________________________________________________________\n",
            "input_2 (InputLayer)            (None, 256, 256, 3)  0                                            \n",
            "__________________________________________________________________________________________________\n",
            "multiply_1 (Multiply)           (None, 256, 256, 3)  0           input_1[0][0]                    \n",
            "                                                                 input_2[0][0]                    \n",
            "__________________________________________________________________________________________________\n",
            "conv2d_1 (Conv2D)               (None, 128, 128, 64) 4864        multiply_1[0][0]                 \n",
            "__________________________________________________________________________________________________\n",
            "leaky_re_lu_1 (LeakyReLU)       (None, 128, 128, 64) 0           conv2d_1[0][0]                   \n",
            "__________________________________________________________________________________________________\n",
            "conv2d_2 (Conv2D)               (None, 64, 64, 128)  204928      leaky_re_lu_1[0][0]              \n",
            "__________________________________________________________________________________________________\n",
            "leaky_re_lu_2 (LeakyReLU)       (None, 64, 64, 128)  0           conv2d_2[0][0]                   \n",
            "__________________________________________________________________________________________________\n",
            "conv2d_3 (Conv2D)               (None, 32, 32, 256)  819456      leaky_re_lu_2[0][0]              \n",
            "__________________________________________________________________________________________________\n",
            "leaky_re_lu_3 (LeakyReLU)       (None, 32, 32, 256)  0           conv2d_3[0][0]                   \n",
            "__________________________________________________________________________________________________\n",
            "conv2d_4 (Conv2D)               (None, 16, 16, 512)  3277312     leaky_re_lu_3[0][0]              \n",
            "__________________________________________________________________________________________________\n",
            "leaky_re_lu_4 (LeakyReLU)       (None, 16, 16, 512)  0           conv2d_4[0][0]                   \n",
            "__________________________________________________________________________________________________\n",
            "conv2d_5 (Conv2D)               (None, 8, 8, 256)    3277056     leaky_re_lu_4[0][0]              \n",
            "__________________________________________________________________________________________________\n",
            "leaky_re_lu_5 (LeakyReLU)       (None, 8, 8, 256)    0           conv2d_5[0][0]                   \n",
            "__________________________________________________________________________________________________\n",
            "conv2d_6 (Conv2D)               (None, 4, 4, 128)    819328      leaky_re_lu_5[0][0]              \n",
            "__________________________________________________________________________________________________\n",
            "leaky_re_lu_6 (LeakyReLU)       (None, 4, 4, 128)    0           conv2d_6[0][0]                   \n",
            "__________________________________________________________________________________________________\n",
            "flatten_1 (Flatten)             (None, 2048)         0           leaky_re_lu_6[0][0]              \n",
            "__________________________________________________________________________________________________\n",
            "dense_1 (Dense)                 (None, 1)            2049        flatten_1[0][0]                  \n",
            "==================================================================================================\n",
            "Total params: 8,404,993\n",
            "Trainable params: 8,404,993\n",
            "Non-trainable params: 0\n",
            "__________________________________________________________________________________________________\n",
            "_________________________________________________________________\n",
            "Layer (type)                 Output Shape              Param #   \n",
            "=================================================================\n",
            "input_3 (InputLayer)         (None, 256, 256, 3)       0         \n",
            "_________________________________________________________________\n",
            "conv2d_7 (Conv2D)            (None, 128, 128, 64)      4864      \n",
            "_________________________________________________________________\n",
            "leaky_re_lu_7 (LeakyReLU)    (None, 128, 128, 64)      0         \n",
            "_________________________________________________________________\n",
            "conv2d_8 (Conv2D)            (None, 64, 64, 128)       204928    \n",
            "_________________________________________________________________\n",
            "leaky_re_lu_8 (LeakyReLU)    (None, 64, 64, 128)       0         \n",
            "_________________________________________________________________\n",
            "conv2d_9 (Conv2D)            (None, 32, 32, 256)       819456    \n",
            "_________________________________________________________________\n",
            "leaky_re_lu_9 (LeakyReLU)    (None, 32, 32, 256)       0         \n",
            "_________________________________________________________________\n",
            "conv2d_10 (Conv2D)           (None, 16, 16, 512)       3277312   \n",
            "_________________________________________________________________\n",
            "leaky_re_lu_10 (LeakyReLU)   (None, 16, 16, 512)       0         \n",
            "_________________________________________________________________\n",
            "conv2d_11 (Conv2D)           (None, 8, 8, 256)         3277056   \n",
            "_________________________________________________________________\n",
            "leaky_re_lu_11 (LeakyReLU)   (None, 8, 8, 256)         0         \n",
            "_________________________________________________________________\n",
            "conv2d_12 (Conv2D)           (None, 4, 4, 128)         819328    \n",
            "_________________________________________________________________\n",
            "leaky_re_lu_12 (LeakyReLU)   (None, 4, 4, 128)         0         \n",
            "_________________________________________________________________\n",
            "flatten_2 (Flatten)          (None, 2048)              0         \n",
            "_________________________________________________________________\n",
            "dense_2 (Dense)              (None, 1)                 2049      \n",
            "=================================================================\n",
            "Total params: 8,404,993\n",
            "Trainable params: 8,404,993\n",
            "Non-trainable params: 0\n",
            "_________________________________________________________________\n",
            "WARNING:tensorflow:From /usr/local/lib/python3.7/dist-packages/keras/backend/tensorflow_backend.py:2018: The name tf.image.resize_nearest_neighbor is deprecated. Please use tf.compat.v1.image.resize_nearest_neighbor instead.\n",
            "\n",
            "__________________________________________________________________________________________________\n",
            "Layer (type)                    Output Shape         Param #     Connected to                     \n",
            "==================================================================================================\n",
            "input_5 (InputLayer)            (None, 256, 256, 3)  0                                            \n",
            "__________________________________________________________________________________________________\n",
            "input_4 (InputLayer)            (None, 256, 256, 3)  0                                            \n",
            "__________________________________________________________________________________________________\n",
            "binary_negation_1 (BinaryNegati (None, 256, 256, 3)  0           input_5[0][0]                    \n",
            "__________________________________________________________________________________________________\n",
            "multiply_2 (Multiply)           (None, 256, 256, 3)  0           input_4[0][0]                    \n",
            "                                                                 binary_negation_1[0][0]          \n",
            "__________________________________________________________________________________________________\n",
            "concatenate_1 (Concatenate)     (None, 256, 256, 6)  0           multiply_2[0][0]                 \n",
            "                                                                 input_5[0][0]                    \n",
            "__________________________________________________________________________________________________\n",
            "conv2d_39 (Conv2D)              (None, 256, 256, 32) 1760        concatenate_1[0][0]              \n",
            "__________________________________________________________________________________________________\n",
            "elu_26 (ELU)                    (None, 256, 256, 32) 0           conv2d_39[0][0]                  \n",
            "__________________________________________________________________________________________________\n",
            "conv2d_40 (Conv2D)              (None, 128, 128, 64) 18496       elu_26[0][0]                     \n",
            "__________________________________________________________________________________________________\n",
            "elu_27 (ELU)                    (None, 128, 128, 64) 0           conv2d_40[0][0]                  \n",
            "__________________________________________________________________________________________________\n",
            "conv2d_25 (Conv2D)              (None, 256, 256, 32) 4832        concatenate_1[0][0]              \n",
            "__________________________________________________________________________________________________\n",
            "conv2d_41 (Conv2D)              (None, 128, 128, 64) 36928       elu_27[0][0]                     \n",
            "__________________________________________________________________________________________________\n",
            "elu_12 (ELU)                    (None, 256, 256, 32) 0           conv2d_25[0][0]                  \n",
            "__________________________________________________________________________________________________\n",
            "elu_28 (ELU)                    (None, 128, 128, 64) 0           conv2d_41[0][0]                  \n",
            "__________________________________________________________________________________________________\n",
            "conv2d_26 (Conv2D)              (None, 128, 128, 64) 51264       elu_12[0][0]                     \n",
            "__________________________________________________________________________________________________\n",
            "conv2d_42 (Conv2D)              (None, 64, 64, 128)  73856       elu_28[0][0]                     \n",
            "__________________________________________________________________________________________________\n",
            "elu_13 (ELU)                    (None, 128, 128, 64) 0           conv2d_26[0][0]                  \n",
            "__________________________________________________________________________________________________\n",
            "elu_29 (ELU)                    (None, 64, 64, 128)  0           conv2d_42[0][0]                  \n",
            "__________________________________________________________________________________________________\n",
            "conv2d_27 (Conv2D)              (None, 128, 128, 64) 102464      elu_13[0][0]                     \n",
            "__________________________________________________________________________________________________\n",
            "conv2d_43 (Conv2D)              (None, 64, 64, 128)  147584      elu_29[0][0]                     \n",
            "__________________________________________________________________________________________________\n",
            "elu_14 (ELU)                    (None, 128, 128, 64) 0           conv2d_27[0][0]                  \n",
            "__________________________________________________________________________________________________\n",
            "elu_30 (ELU)                    (None, 64, 64, 128)  0           conv2d_43[0][0]                  \n",
            "__________________________________________________________________________________________________\n",
            "conv2d_13 (Conv2D)              (None, 256, 256, 32) 9440        concatenate_1[0][0]              \n",
            "__________________________________________________________________________________________________\n",
            "conv2d_28 (Conv2D)              (None, 64, 64, 128)  204928      elu_14[0][0]                     \n",
            "__________________________________________________________________________________________________\n",
            "conv2d_44 (Conv2D)              (None, 64, 64, 128)  147584      elu_30[0][0]                     \n",
            "__________________________________________________________________________________________________\n",
            "elu_1 (ELU)                     (None, 256, 256, 32) 0           conv2d_13[0][0]                  \n",
            "__________________________________________________________________________________________________\n",
            "elu_15 (ELU)                    (None, 64, 64, 128)  0           conv2d_28[0][0]                  \n",
            "__________________________________________________________________________________________________\n",
            "elu_31 (ELU)                    (None, 64, 64, 128)  0           conv2d_44[0][0]                  \n",
            "__________________________________________________________________________________________________\n",
            "conv2d_14 (Conv2D)              (None, 128, 128, 64) 100416      elu_1[0][0]                      \n",
            "__________________________________________________________________________________________________\n",
            "conv2d_29 (Conv2D)              (None, 64, 64, 128)  409728      elu_15[0][0]                     \n",
            "__________________________________________________________________________________________________\n",
            "conv2d_45 (Conv2D)              (None, 64, 64, 128)  147584      elu_31[0][0]                     \n",
            "__________________________________________________________________________________________________\n",
            "elu_2 (ELU)                     (None, 128, 128, 64) 0           conv2d_14[0][0]                  \n",
            "__________________________________________________________________________________________________\n",
            "elu_16 (ELU)                    (None, 64, 64, 128)  0           conv2d_29[0][0]                  \n",
            "__________________________________________________________________________________________________\n",
            "elu_32 (ELU)                    (None, 64, 64, 128)  0           conv2d_45[0][0]                  \n",
            "__________________________________________________________________________________________________\n",
            "conv2d_15 (Conv2D)              (None, 128, 128, 64) 200768      elu_2[0][0]                      \n",
            "__________________________________________________________________________________________________\n",
            "conv2d_30 (Conv2D)              (None, 64, 64, 128)  409728      elu_16[0][0]                     \n",
            "__________________________________________________________________________________________________\n",
            "conv2d_46 (Conv2D)              (None, 64, 64, 128)  147584      elu_32[0][0]                     \n",
            "__________________________________________________________________________________________________\n",
            "elu_3 (ELU)                     (None, 128, 128, 64) 0           conv2d_15[0][0]                  \n",
            "__________________________________________________________________________________________________\n",
            "elu_17 (ELU)                    (None, 64, 64, 128)  0           conv2d_30[0][0]                  \n",
            "__________________________________________________________________________________________________\n",
            "elu_33 (ELU)                    (None, 64, 64, 128)  0           conv2d_46[0][0]                  \n",
            "__________________________________________________________________________________________________\n",
            "conv2d_16 (Conv2D)              (None, 64, 64, 128)  401536      elu_3[0][0]                      \n",
            "__________________________________________________________________________________________________\n",
            "conv2d_31 (Conv2D)              (None, 64, 64, 128)  409728      elu_17[0][0]                     \n",
            "__________________________________________________________________________________________________\n",
            "conv2d_47 (Conv2D)              (None, 64, 64, 128)  147584      elu_33[0][0]                     \n",
            "__________________________________________________________________________________________________\n",
            "elu_4 (ELU)                     (None, 64, 64, 128)  0           conv2d_16[0][0]                  \n",
            "__________________________________________________________________________________________________\n",
            "elu_18 (ELU)                    (None, 64, 64, 128)  0           conv2d_31[0][0]                  \n",
            "__________________________________________________________________________________________________\n",
            "elu_34 (ELU)                    (None, 64, 64, 128)  0           conv2d_47[0][0]                  \n",
            "__________________________________________________________________________________________________\n",
            "conv2d_17 (Conv2D)              (None, 64, 64, 128)  802944      elu_4[0][0]                      \n",
            "__________________________________________________________________________________________________\n",
            "conv2d_32 (Conv2D)              (None, 64, 64, 128)  409728      elu_18[0][0]                     \n",
            "__________________________________________________________________________________________________\n",
            "conv2d_48 (Conv2D)              (None, 64, 64, 128)  147584      elu_34[0][0]                     \n",
            "__________________________________________________________________________________________________\n",
            "elu_5 (ELU)                     (None, 64, 64, 128)  0           conv2d_17[0][0]                  \n",
            "__________________________________________________________________________________________________\n",
            "elu_19 (ELU)                    (None, 64, 64, 128)  0           conv2d_32[0][0]                  \n",
            "__________________________________________________________________________________________________\n",
            "elu_35 (ELU)                    (None, 64, 64, 128)  0           conv2d_48[0][0]                  \n",
            "__________________________________________________________________________________________________\n",
            "conv2d_18 (Conv2D)              (None, 64, 64, 128)  802944      elu_5[0][0]                      \n",
            "__________________________________________________________________________________________________\n",
            "conv2d_33 (Conv2D)              (None, 64, 64, 128)  409728      elu_19[0][0]                     \n",
            "__________________________________________________________________________________________________\n",
            "conv2d_49 (Conv2D)              (None, 64, 64, 128)  147584      elu_35[0][0]                     \n",
            "__________________________________________________________________________________________________\n",
            "conv2d_19 (Conv2D)              (None, 64, 64, 128)  802944      conv2d_18[0][0]                  \n",
            "__________________________________________________________________________________________________\n",
            "elu_20 (ELU)                    (None, 64, 64, 128)  0           conv2d_33[0][0]                  \n",
            "__________________________________________________________________________________________________\n",
            "elu_36 (ELU)                    (None, 64, 64, 128)  0           conv2d_49[0][0]                  \n",
            "__________________________________________________________________________________________________\n",
            "elu_6 (ELU)                     (None, 64, 64, 128)  0           conv2d_19[0][0]                  \n",
            "__________________________________________________________________________________________________\n",
            "conv2d_34 (Conv2D)              (None, 64, 64, 128)  409728      elu_20[0][0]                     \n",
            "__________________________________________________________________________________________________\n",
            "conv2d_50 (Conv2D)              (None, 64, 64, 128)  147584      elu_36[0][0]                     \n",
            "__________________________________________________________________________________________________\n",
            "conv2d_20 (Conv2D)              (None, 64, 64, 128)  802944      elu_6[0][0]                      \n",
            "__________________________________________________________________________________________________\n",
            "elu_21 (ELU)                    (None, 64, 64, 128)  0           conv2d_34[0][0]                  \n",
            "__________________________________________________________________________________________________\n",
            "elu_37 (ELU)                    (None, 64, 64, 128)  0           conv2d_50[0][0]                  \n",
            "__________________________________________________________________________________________________\n",
            "elu_7 (ELU)                     (None, 64, 64, 128)  0           conv2d_20[0][0]                  \n",
            "__________________________________________________________________________________________________\n",
            "conv2d_35 (Conv2D)              (None, 64, 64, 128)  409728      elu_21[0][0]                     \n",
            "__________________________________________________________________________________________________\n",
            "up_sampling2d_4 (UpSampling2D)  (None, 128, 128, 128 0           elu_37[0][0]                     \n",
            "__________________________________________________________________________________________________\n",
            "conv2d_21 (Conv2D)              (None, 64, 64, 128)  802944      elu_7[0][0]                      \n",
            "__________________________________________________________________________________________________\n",
            "elu_22 (ELU)                    (None, 64, 64, 128)  0           conv2d_35[0][0]                  \n",
            "__________________________________________________________________________________________________\n",
            "conv2d_51 (Conv2D)              (None, 128, 128, 64) 204864      up_sampling2d_4[0][0]            \n",
            "__________________________________________________________________________________________________\n",
            "elu_8 (ELU)                     (None, 64, 64, 128)  0           conv2d_21[0][0]                  \n",
            "__________________________________________________________________________________________________\n",
            "conv2d_36 (Conv2D)              (None, 64, 64, 128)  409728      elu_22[0][0]                     \n",
            "__________________________________________________________________________________________________\n",
            "elu_38 (ELU)                    (None, 128, 128, 64) 0           conv2d_51[0][0]                  \n",
            "__________________________________________________________________________________________________\n",
            "conv2d_22 (Conv2D)              (None, 64, 64, 128)  802944      elu_8[0][0]                      \n",
            "__________________________________________________________________________________________________\n",
            "elu_23 (ELU)                    (None, 64, 64, 128)  0           conv2d_36[0][0]                  \n",
            "__________________________________________________________________________________________________\n",
            "conv2d_52 (Conv2D)              (None, 128, 128, 64) 102464      elu_38[0][0]                     \n",
            "__________________________________________________________________________________________________\n",
            "elu_9 (ELU)                     (None, 64, 64, 128)  0           conv2d_22[0][0]                  \n",
            "__________________________________________________________________________________________________\n",
            "up_sampling2d_2 (UpSampling2D)  (None, 128, 128, 128 0           elu_23[0][0]                     \n",
            "__________________________________________________________________________________________________\n",
            "elu_39 (ELU)                    (None, 128, 128, 64) 0           conv2d_52[0][0]                  \n",
            "__________________________________________________________________________________________________\n",
            "conv2d_23 (Conv2D)              (None, 64, 64, 128)  802944      elu_9[0][0]                      \n",
            "__________________________________________________________________________________________________\n",
            "conv2d_37 (Conv2D)              (None, 128, 128, 64) 204864      up_sampling2d_2[0][0]            \n",
            "__________________________________________________________________________________________________\n",
            "up_sampling2d_5 (UpSampling2D)  (None, 256, 256, 64) 0           elu_39[0][0]                     \n",
            "__________________________________________________________________________________________________\n",
            "elu_10 (ELU)                    (None, 64, 64, 128)  0           conv2d_23[0][0]                  \n",
            "__________________________________________________________________________________________________\n",
            "elu_24 (ELU)                    (None, 128, 128, 64) 0           conv2d_37[0][0]                  \n",
            "__________________________________________________________________________________________________\n",
            "conv2d_53 (Conv2D)              (None, 256, 256, 64) 36928       up_sampling2d_5[0][0]            \n",
            "__________________________________________________________________________________________________\n",
            "conv2d_24 (Conv2D)              (None, 64, 64, 128)  802944      elu_10[0][0]                     \n",
            "__________________________________________________________________________________________________\n",
            "conv2d_38 (Conv2D)              (None, 128, 128, 64) 102464      elu_24[0][0]                     \n",
            "__________________________________________________________________________________________________\n",
            "elu_40 (ELU)                    (None, 256, 256, 64) 0           conv2d_53[0][0]                  \n",
            "__________________________________________________________________________________________________\n",
            "elu_11 (ELU)                    (None, 64, 64, 128)  0           conv2d_24[0][0]                  \n",
            "__________________________________________________________________________________________________\n",
            "elu_25 (ELU)                    (None, 128, 128, 64) 0           conv2d_38[0][0]                  \n",
            "__________________________________________________________________________________________________\n",
            "conv2d_54 (Conv2D)              (None, 256, 256, 64) 36928       elu_40[0][0]                     \n",
            "__________________________________________________________________________________________________\n",
            "up_sampling2d_1 (UpSampling2D)  (None, 256, 256, 128 0           elu_11[0][0]                     \n",
            "__________________________________________________________________________________________________\n",
            "up_sampling2d_3 (UpSampling2D)  (None, 256, 256, 64) 0           elu_25[0][0]                     \n",
            "__________________________________________________________________________________________________\n",
            "elu_41 (ELU)                    (None, 256, 256, 64) 0           conv2d_54[0][0]                  \n",
            "__________________________________________________________________________________________________\n",
            "concatenate_2 (Concatenate)     (None, 256, 256, 256 0           up_sampling2d_1[0][0]            \n",
            "                                                                 up_sampling2d_3[0][0]            \n",
            "                                                                 elu_41[0][0]                     \n",
            "__________________________________________________________________________________________________\n",
            "conv2d_55 (Conv2D)              (None, 256, 256, 16) 36880       concatenate_2[0][0]              \n",
            "__________________________________________________________________________________________________\n",
            "elu_42 (ELU)                    (None, 256, 256, 16) 0           conv2d_55[0][0]                  \n",
            "__________________________________________________________________________________________________\n",
            "conv2d_56 (Conv2D)              (None, 256, 256, 3)  435         elu_42[0][0]                     \n",
            "__________________________________________________________________________________________________\n",
            "clip_1 (Clip)                   (None, 256, 256, 3)  0           conv2d_56[0][0]                  \n",
            "==================================================================================================\n",
            "Total params: 12,814,563\n",
            "Trainable params: 12,814,563\n",
            "Non-trainable params: 0\n",
            "__________________________________________________________________________________________________\n",
            "WARNING:tensorflow:From /usr/local/lib/python3.7/dist-packages/keras/optimizers.py:790: The name tf.train.Optimizer is deprecated. Please use tf.compat.v1.train.Optimizer instead.\n",
            "\n",
            "WARNING:tensorflow:From /content/inpainting-gmcnn-keras/utils/gaussian_utils.py:6: Normal.__init__ (from tensorflow.python.ops.distributions.normal) is deprecated and will be removed after 2019-01-01.\n",
            "Instructions for updating:\n",
            "The TensorFlow Distributions library has moved to TensorFlow Probability (https://github.com/tensorflow/probability). You should update all references to use `tfp.distributions` instead of `tf.distributions`.\n",
            "WARNING:tensorflow:From /usr/local/lib/python3.7/dist-packages/tensorflow_core/python/ops/distributions/normal.py:160: Distribution.__init__ (from tensorflow.python.ops.distributions.distribution) is deprecated and will be removed after 2019-01-01.\n",
            "Instructions for updating:\n",
            "The TensorFlow Distributions library has moved to TensorFlow Probability (https://github.com/tensorflow/probability). You should update all references to use `tfp.distributions` instead of `tf.distributions`.\n",
            "WARNING:tensorflow:From /usr/local/lib/python3.7/dist-packages/keras/backend/tensorflow_backend.py:3976: The name tf.nn.max_pool is deprecated. Please use tf.nn.max_pool2d instead.\n",
            "\n",
            "WARNING:tensorflow:From /usr/local/lib/python3.7/dist-packages/keras/backend/tensorflow_backend.py:174: The name tf.get_default_session is deprecated. Please use tf.compat.v1.get_default_session instead.\n",
            "\n",
            "WARNING:tensorflow:From /usr/local/lib/python3.7/dist-packages/keras/backend/tensorflow_backend.py:181: The name tf.ConfigProto is deprecated. Please use tf.compat.v1.ConfigProto instead.\n",
            "\n",
            "WARNING:tensorflow:From /usr/local/lib/python3.7/dist-packages/keras/backend/tensorflow_backend.py:186: The name tf.Session is deprecated. Please use tf.compat.v1.Session instead.\n",
            "\n",
            "2022-03-14 08:03:22.695294: I tensorflow/core/platform/cpu_feature_guard.cc:142] Your CPU supports instructions that this TensorFlow binary was not compiled to use: AVX2 FMA\n",
            "2022-03-14 08:03:22.700393: I tensorflow/core/platform/profile_utils/cpu_utils.cc:94] CPU Frequency: 2299995000 Hz\n",
            "2022-03-14 08:03:22.700625: I tensorflow/compiler/xla/service/service.cc:168] XLA service 0x55a9623e6380 initialized for platform Host (this does not guarantee that XLA will be used). Devices:\n",
            "2022-03-14 08:03:22.700664: I tensorflow/compiler/xla/service/service.cc:176]   StreamExecutor device (0): Host, Default Version\n",
            "2022-03-14 08:03:22.702596: I tensorflow/stream_executor/platform/default/dso_loader.cc:44] Successfully opened dynamic library libcuda.so.1\n",
            "2022-03-14 08:03:22.824480: I tensorflow/stream_executor/cuda/cuda_gpu_executor.cc:983] successful NUMA node read from SysFS had negative value (-1), but there must be at least one NUMA node, so returning NUMA node zero\n",
            "2022-03-14 08:03:22.825436: I tensorflow/compiler/xla/service/service.cc:168] XLA service 0x55a9623e68c0 initialized for platform CUDA (this does not guarantee that XLA will be used). Devices:\n",
            "2022-03-14 08:03:22.825470: I tensorflow/compiler/xla/service/service.cc:176]   StreamExecutor device (0): Tesla K80, Compute Capability 3.7\n",
            "2022-03-14 08:03:22.825681: I tensorflow/stream_executor/cuda/cuda_gpu_executor.cc:983] successful NUMA node read from SysFS had negative value (-1), but there must be at least one NUMA node, so returning NUMA node zero\n",
            "2022-03-14 08:03:22.826464: I tensorflow/core/common_runtime/gpu/gpu_device.cc:1618] Found device 0 with properties: \n",
            "name: Tesla K80 major: 3 minor: 7 memoryClockRate(GHz): 0.8235\n",
            "pciBusID: 0000:00:04.0\n",
            "2022-03-14 08:03:22.826840: I tensorflow/stream_executor/platform/default/dso_loader.cc:44] Successfully opened dynamic library libcudart.so.10.0\n",
            "2022-03-14 08:03:22.828232: I tensorflow/stream_executor/platform/default/dso_loader.cc:44] Successfully opened dynamic library libcublas.so.10.0\n",
            "2022-03-14 08:03:22.829536: I tensorflow/stream_executor/platform/default/dso_loader.cc:44] Successfully opened dynamic library libcufft.so.10.0\n",
            "2022-03-14 08:03:22.829912: I tensorflow/stream_executor/platform/default/dso_loader.cc:44] Successfully opened dynamic library libcurand.so.10.0\n",
            "2022-03-14 08:03:22.832499: I tensorflow/stream_executor/platform/default/dso_loader.cc:44] Successfully opened dynamic library libcusolver.so.10.0\n",
            "2022-03-14 08:03:22.833617: I tensorflow/stream_executor/platform/default/dso_loader.cc:44] Successfully opened dynamic library libcusparse.so.10.0\n",
            "2022-03-14 08:03:22.837959: I tensorflow/stream_executor/platform/default/dso_loader.cc:44] Successfully opened dynamic library libcudnn.so.7\n",
            "2022-03-14 08:03:22.838084: I tensorflow/stream_executor/cuda/cuda_gpu_executor.cc:983] successful NUMA node read from SysFS had negative value (-1), but there must be at least one NUMA node, so returning NUMA node zero\n",
            "2022-03-14 08:03:22.838942: I tensorflow/stream_executor/cuda/cuda_gpu_executor.cc:983] successful NUMA node read from SysFS had negative value (-1), but there must be at least one NUMA node, so returning NUMA node zero\n",
            "2022-03-14 08:03:22.839658: I tensorflow/core/common_runtime/gpu/gpu_device.cc:1746] Adding visible gpu devices: 0\n",
            "2022-03-14 08:03:22.839737: I tensorflow/stream_executor/platform/default/dso_loader.cc:44] Successfully opened dynamic library libcudart.so.10.0\n",
            "2022-03-14 08:03:22.841366: I tensorflow/core/common_runtime/gpu/gpu_device.cc:1159] Device interconnect StreamExecutor with strength 1 edge matrix:\n",
            "2022-03-14 08:03:22.841410: I tensorflow/core/common_runtime/gpu/gpu_device.cc:1165]      0 \n",
            "2022-03-14 08:03:22.841434: I tensorflow/core/common_runtime/gpu/gpu_device.cc:1178] 0:   N \n",
            "2022-03-14 08:03:22.841592: I tensorflow/stream_executor/cuda/cuda_gpu_executor.cc:983] successful NUMA node read from SysFS had negative value (-1), but there must be at least one NUMA node, so returning NUMA node zero\n",
            "2022-03-14 08:03:22.842395: I tensorflow/stream_executor/cuda/cuda_gpu_executor.cc:983] successful NUMA node read from SysFS had negative value (-1), but there must be at least one NUMA node, so returning NUMA node zero\n",
            "2022-03-14 08:03:22.843189: W tensorflow/core/common_runtime/gpu/gpu_bfc_allocator.cc:39] Overriding allow_growth setting because the TF_FORCE_GPU_ALLOW_GROWTH environment variable is set. Original config value was 0.\n",
            "2022-03-14 08:03:22.843239: I tensorflow/core/common_runtime/gpu/gpu_device.cc:1304] Created TensorFlow device (/job:localhost/replica:0/task:0/device:GPU:0 with 10813 MB memory) -> physical GPU (device: 0, name: Tesla K80, pci bus id: 0000:00:04.0, compute capability: 3.7)\n",
            "WARNING:tensorflow:From /usr/local/lib/python3.7/dist-packages/keras/backend/tensorflow_backend.py:190: The name tf.global_variables is deprecated. Please use tf.compat.v1.global_variables instead.\n",
            "\n",
            "WARNING:tensorflow:From /usr/local/lib/python3.7/dist-packages/keras/backend/tensorflow_backend.py:199: The name tf.is_variable_initialized is deprecated. Please use tf.compat.v1.is_variable_initialized instead.\n",
            "\n",
            "WARNING:tensorflow:From /usr/local/lib/python3.7/dist-packages/keras/backend/tensorflow_backend.py:206: The name tf.variables_initializer is deprecated. Please use tf.compat.v1.variables_initializer instead.\n",
            "\n",
            "INFO:tensorflow: #### Skipping random pooling ...\n",
            "WARNING:tensorflow:From /content/inpainting-gmcnn-keras/utils/contextual_similarity_utills.py:62: calling extract_image_patches (from tensorflow.python.ops.array_ops) with ksizes is deprecated and will be removed in a future version.\n",
            "Instructions for updating:\n",
            "ksizes is deprecated, use sizes instead\n",
            "WARNING:tensorflow:From /content/inpainting-gmcnn-keras/utils/id_mrf.py:51: The name tf.log is deprecated. Please use tf.math.log instead.\n",
            "\n",
            "INFO:tensorflow: #### Skipping random pooling ...\n",
            "INFO:tensorflow: #### pooling 65x65 out of 128x128\n",
            "WARNING:tensorflow:From /content/inpainting-gmcnn-keras/utils/sampling_utils.py:36: The name tf.random_shuffle is deprecated. Please use tf.random.shuffle instead.\n",
            "\n",
            "Found 14076 images belonging to 1 classes.\n",
            "Found 14076 images belonging to 1 classes.\n",
            "Found 12000 images belonging to 1 classes.\n",
            "Epochs:   0% 0/5 [00:00<?, ?it/s]WARNING:tensorflow:From /usr/local/lib/python3.7/dist-packages/keras/callbacks.py:850: The name tf.summary.merge_all is deprecated. Please use tf.compat.v1.summary.merge_all instead.\n",
            "\n",
            "WARNING:tensorflow:From /usr/local/lib/python3.7/dist-packages/keras/callbacks.py:853: The name tf.summary.FileWriter is deprecated. Please use tf.compat.v1.summary.FileWriter instead.\n",
            "\n",
            "/usr/local/lib/python3.7/dist-packages/keras/engine/training.py:490: UserWarning: Discrepancy between trainable weights and collected trainable weights, did you set `model.trainable` without calling `model.compile` after ?\n",
            "  'Discrepancy between trainable weights and collected trainable'\n",
            "WARNING:tensorflow:From /usr/local/lib/python3.7/dist-packages/tensorflow_core/python/ops/math_grad.py:1424: where (from tensorflow.python.ops.array_ops) is deprecated and will be removed in a future version.\n",
            "Instructions for updating:\n",
            "Use tf.where in 2.0, which has the same broadcast rule as np.where\n",
            "WARNING:tensorflow:From /usr/local/lib/python3.7/dist-packages/keras/backend/tensorflow_backend.py:986: The name tf.assign_add is deprecated. Please use tf.compat.v1.assign_add instead.\n",
            "\n",
            "WARNING:tensorflow:From /usr/local/lib/python3.7/dist-packages/keras/backend/tensorflow_backend.py:973: The name tf.assign is deprecated. Please use tf.compat.v1.assign instead.\n",
            "\n",
            "2022-03-14 08:03:34.738591: I tensorflow/stream_executor/platform/default/dso_loader.cc:44] Successfully opened dynamic library libcublas.so.10.0\n",
            "2022-03-14 08:03:35.298827: I tensorflow/stream_executor/platform/default/dso_loader.cc:44] Successfully opened dynamic library libcudnn.so.7\n",
            "Epochs:   0% 0/5 [00:23<?, ?it/s, epoch=0, generator_loss=0.40, global_discriminator_loss=0.00, local_discriminator_loss=0.00, step=1|3519]WARNING:tensorflow:From /usr/local/lib/python3.7/dist-packages/keras/callbacks.py:995: The name tf.Summary is deprecated. Please use tf.compat.v1.Summary instead.\n",
            "\n",
            "INFO:tensorflow:Saved generator weights to: ./outputs/gmcnn256x256/weights/gmcnn.h5\n",
            "INFO:tensorflow:Saved global critic weights to: ./outputs/gmcnn256x256/weights/global_critic.h5\n",
            "INFO:tensorflow:Saved local critic weights to: ./outputs/gmcnn256x256/weights/local_critic.h5\n",
            "/usr/local/lib/python3.7/dist-packages/keras/engine/training.py:490: UserWarning: Discrepancy between trainable weights and collected trainable weights, did you set `model.trainable` without calling `model.compile` after ?\n",
            "  'Discrepancy between trainable weights and collected trainable'\n",
            "Epochs:   0% 0/5 [38:43<?, ?it/s, epoch=0, generator_loss=0.16, global_discriminator_loss=0.00, local_discriminator_loss=0.00, step=1001|3519]INFO:tensorflow:Saved generator weights to: ./outputs/gmcnn256x256/weights/gmcnn.h5\n",
            "INFO:tensorflow:Saved global critic weights to: ./outputs/gmcnn256x256/weights/global_critic.h5\n",
            "INFO:tensorflow:Saved local critic weights to: ./outputs/gmcnn256x256/weights/local_critic.h5\n",
            "Epochs:   0% 0/5 [1:17:00<?, ?it/s, epoch=0, generator_loss=0.10, global_discriminator_loss=0.00, local_discriminator_loss=0.00, step=2001|3519]INFO:tensorflow:Saved generator weights to: ./outputs/gmcnn256x256/weights/gmcnn.h5\n",
            "INFO:tensorflow:Saved global critic weights to: ./outputs/gmcnn256x256/weights/global_critic.h5\n",
            "INFO:tensorflow:Saved local critic weights to: ./outputs/gmcnn256x256/weights/local_critic.h5\n",
            "Epochs:   0% 0/5 [1:28:40<?, ?it/s, epoch=0, generator_loss=0.12, global_discriminator_loss=0.00, local_discriminator_loss=0.00, step=2305|3519]"
          ]
        }
      ]
    },
    {
      "cell_type": "markdown",
      "metadata": {
        "id": "7G7cZPlBElkF"
      },
      "source": [
        "# Visualize predicted images for specific training steps in warm-up generator mode"
      ]
    },
    {
      "cell_type": "code",
      "metadata": {
        "id": "R5Denu3d1VrW",
        "colab": {
          "base_uri": "https://localhost:8080/"
        },
        "outputId": "64b3f74e-bd34-4465-bcdb-41aac6f7ba69"
      },
      "source": [
        "!ls outputs/gmcnn256x256/predicted_pics/warm_up_generator/"
      ],
      "execution_count": null,
      "outputs": [
        {
          "output_type": "stream",
          "name": "stdout",
          "text": [
            "step_000.png  step_1000.png\n"
          ]
        }
      ]
    },
    {
      "cell_type": "code",
      "metadata": {
        "id": "ro0NuAbm1grE",
        "colab": {
          "base_uri": "https://localhost:8080/",
          "height": 35
        },
        "outputId": "cbb930b1-5fe9-46bc-8575-440e1a0fe79e"
      },
      "source": [
        "from IPython.display import Image\n",
        "Image('outputs/gmcnn256x256/predicted_pics/warm_up_generator/step_3000.png')"
      ],
      "execution_count": null,
      "outputs": [
        {
          "output_type": "execute_result",
          "data": {
            "image/png": "outputs/gmcnn256x256/predicted_pics/warm_up_generator/step_3000.png",
            "text/plain": [
              "<IPython.core.display.Image object>"
            ]
          },
          "metadata": {},
          "execution_count": 18
        }
      ]
    },
    {
      "cell_type": "code",
      "metadata": {
        "id": "r0j6E6OD-4hV"
      },
      "source": [
        "Image('outputs/gmcnn256x256/predicted_pics/warm_up_generator/step_5000.png')"
      ],
      "execution_count": null,
      "outputs": []
    },
    {
      "cell_type": "markdown",
      "metadata": {
        "id": "Z8Z-pEA3G5ze"
      },
      "source": [
        "# Full Wasserstein GAN training mode: generator, local and global discriminators"
      ]
    },
    {
      "cell_type": "code",
      "metadata": {
        "id": "hKOmg7hIWNvF",
        "colab": {
          "base_uri": "https://localhost:8080/"
        },
        "outputId": "40ba6f1e-de4d-46f3-b356-54b438b761d0"
      },
      "source": [
        "%%writefile config/main_config.ini\n",
        "[TRAINING]\n",
        "WGAN_TRAINING_RATIO = 5\n",
        "NUM_EPOCHS = 5\n",
        "BATCH_SIZE = 4\n",
        "IMG_HEIGHT = 256\n",
        "IMG_WIDTH = 256\n",
        "NUM_CHANNELS = 3\n",
        "LEARNING_RATE = 0.0002\n",
        "SAVE_MODEL_STEPS_PERIOD = 500\n",
        "\n",
        "[MODEL]\n",
        "ADD_MASK_AS_GENERATOR_INPUT = True\n",
        "GRADIENT_PENALTY_LOSS_WEIGHT = 10\n",
        "ID_MRF_LOSS_WEIGHT = 0.05\n",
        "ADVERSARIAL_LOSS_WEIGHT = 0.0005\n",
        "NN_STRETCH_SIGMA = 0.5\n",
        "VGG_16_LAYERS = 3,6,10\n",
        "ID_MRF_STYLE_WEIGHT = 1.0\n",
        "ID_MRF_CONTENT_WEIGHT = 1.0\n",
        "NUM_GAUSSIAN_STEPS = 3\n",
        "GAUSSIAN_KERNEL_SIZE = 32\n",
        "GAUSSIAN_KERNEL_STD = 40.0"
      ],
      "execution_count": null,
      "outputs": [
        {
          "output_type": "stream",
          "name": "stdout",
          "text": [
            "Overwriting config/main_config.ini\n"
          ]
        }
      ]
    },
    {
      "cell_type": "code",
      "metadata": {
        "id": "dUNq-6v5Fjfw",
        "colab": {
          "base_uri": "https://localhost:8080/"
        },
        "outputId": "b3a4529f-ac06-47f9-903c-0282e76eb625"
      },
      "source": [
        "!python inpainting-gmcnn-keras/runner.py --train_path images --mask_path mask -from_weights --experiment_name \"gmcnn256x256\""
      ],
      "execution_count": null,
      "outputs": [
        {
          "output_type": "stream",
          "name": "stdout",
          "text": [
            "Using TensorFlow backend.\n",
            "WARNING:tensorflow:From /content/inpainting-gmcnn-keras/utils/training_utils.py:49: The name tf.logging.set_verbosity is deprecated. Please use tf.compat.v1.logging.set_verbosity instead.\n",
            "\n",
            "WARNING:tensorflow:From /content/inpainting-gmcnn-keras/utils/training_utils.py:49: The name tf.logging.INFO is deprecated. Please use tf.compat.v1.logging.INFO instead.\n",
            "\n",
            "WARNING:tensorflow:From /content/inpainting-gmcnn-keras/utils/training_utils.py:54: The name tf.logging.info is deprecated. Please use tf.compat.v1.logging.info instead.\n",
            "\n",
            "INFO:tensorflow:Setting visible GPU to 0\n",
            "WARNING:tensorflow:From /usr/local/lib/python3.7/dist-packages/keras/backend/tensorflow_backend.py:74: The name tf.get_default_graph is deprecated. Please use tf.compat.v1.get_default_graph instead.\n",
            "\n",
            "WARNING:tensorflow:From /usr/local/lib/python3.7/dist-packages/keras/backend/tensorflow_backend.py:517: The name tf.placeholder is deprecated. Please use tf.compat.v1.placeholder instead.\n",
            "\n",
            "WARNING:tensorflow:From /usr/local/lib/python3.7/dist-packages/keras/backend/tensorflow_backend.py:4138: The name tf.random_uniform is deprecated. Please use tf.random.uniform instead.\n",
            "\n",
            "__________________________________________________________________________________________________\n",
            "Layer (type)                    Output Shape         Param #     Connected to                     \n",
            "==================================================================================================\n",
            "input_1 (InputLayer)            (None, 256, 256, 3)  0                                            \n",
            "__________________________________________________________________________________________________\n",
            "input_2 (InputLayer)            (None, 256, 256, 3)  0                                            \n",
            "__________________________________________________________________________________________________\n",
            "multiply_1 (Multiply)           (None, 256, 256, 3)  0           input_1[0][0]                    \n",
            "                                                                 input_2[0][0]                    \n",
            "__________________________________________________________________________________________________\n",
            "conv2d_1 (Conv2D)               (None, 128, 128, 64) 4864        multiply_1[0][0]                 \n",
            "__________________________________________________________________________________________________\n",
            "leaky_re_lu_1 (LeakyReLU)       (None, 128, 128, 64) 0           conv2d_1[0][0]                   \n",
            "__________________________________________________________________________________________________\n",
            "conv2d_2 (Conv2D)               (None, 64, 64, 128)  204928      leaky_re_lu_1[0][0]              \n",
            "__________________________________________________________________________________________________\n",
            "leaky_re_lu_2 (LeakyReLU)       (None, 64, 64, 128)  0           conv2d_2[0][0]                   \n",
            "__________________________________________________________________________________________________\n",
            "conv2d_3 (Conv2D)               (None, 32, 32, 256)  819456      leaky_re_lu_2[0][0]              \n",
            "__________________________________________________________________________________________________\n",
            "leaky_re_lu_3 (LeakyReLU)       (None, 32, 32, 256)  0           conv2d_3[0][0]                   \n",
            "__________________________________________________________________________________________________\n",
            "conv2d_4 (Conv2D)               (None, 16, 16, 512)  3277312     leaky_re_lu_3[0][0]              \n",
            "__________________________________________________________________________________________________\n",
            "leaky_re_lu_4 (LeakyReLU)       (None, 16, 16, 512)  0           conv2d_4[0][0]                   \n",
            "__________________________________________________________________________________________________\n",
            "conv2d_5 (Conv2D)               (None, 8, 8, 256)    3277056     leaky_re_lu_4[0][0]              \n",
            "__________________________________________________________________________________________________\n",
            "leaky_re_lu_5 (LeakyReLU)       (None, 8, 8, 256)    0           conv2d_5[0][0]                   \n",
            "__________________________________________________________________________________________________\n",
            "conv2d_6 (Conv2D)               (None, 4, 4, 128)    819328      leaky_re_lu_5[0][0]              \n",
            "__________________________________________________________________________________________________\n",
            "leaky_re_lu_6 (LeakyReLU)       (None, 4, 4, 128)    0           conv2d_6[0][0]                   \n",
            "__________________________________________________________________________________________________\n",
            "flatten_1 (Flatten)             (None, 2048)         0           leaky_re_lu_6[0][0]              \n",
            "__________________________________________________________________________________________________\n",
            "dense_1 (Dense)                 (None, 1)            2049        flatten_1[0][0]                  \n",
            "==================================================================================================\n",
            "Total params: 8,404,993\n",
            "Trainable params: 8,404,993\n",
            "Non-trainable params: 0\n",
            "__________________________________________________________________________________________________\n",
            "_________________________________________________________________\n",
            "Layer (type)                 Output Shape              Param #   \n",
            "=================================================================\n",
            "input_3 (InputLayer)         (None, 256, 256, 3)       0         \n",
            "_________________________________________________________________\n",
            "conv2d_7 (Conv2D)            (None, 128, 128, 64)      4864      \n",
            "_________________________________________________________________\n",
            "leaky_re_lu_7 (LeakyReLU)    (None, 128, 128, 64)      0         \n",
            "_________________________________________________________________\n",
            "conv2d_8 (Conv2D)            (None, 64, 64, 128)       204928    \n",
            "_________________________________________________________________\n",
            "leaky_re_lu_8 (LeakyReLU)    (None, 64, 64, 128)       0         \n",
            "_________________________________________________________________\n",
            "conv2d_9 (Conv2D)            (None, 32, 32, 256)       819456    \n",
            "_________________________________________________________________\n",
            "leaky_re_lu_9 (LeakyReLU)    (None, 32, 32, 256)       0         \n",
            "_________________________________________________________________\n",
            "conv2d_10 (Conv2D)           (None, 16, 16, 512)       3277312   \n",
            "_________________________________________________________________\n",
            "leaky_re_lu_10 (LeakyReLU)   (None, 16, 16, 512)       0         \n",
            "_________________________________________________________________\n",
            "conv2d_11 (Conv2D)           (None, 8, 8, 256)         3277056   \n",
            "_________________________________________________________________\n",
            "leaky_re_lu_11 (LeakyReLU)   (None, 8, 8, 256)         0         \n",
            "_________________________________________________________________\n",
            "conv2d_12 (Conv2D)           (None, 4, 4, 128)         819328    \n",
            "_________________________________________________________________\n",
            "leaky_re_lu_12 (LeakyReLU)   (None, 4, 4, 128)         0         \n",
            "_________________________________________________________________\n",
            "flatten_2 (Flatten)          (None, 2048)              0         \n",
            "_________________________________________________________________\n",
            "dense_2 (Dense)              (None, 1)                 2049      \n",
            "=================================================================\n",
            "Total params: 8,404,993\n",
            "Trainable params: 8,404,993\n",
            "Non-trainable params: 0\n",
            "_________________________________________________________________\n",
            "WARNING:tensorflow:From /usr/local/lib/python3.7/dist-packages/keras/backend/tensorflow_backend.py:2018: The name tf.image.resize_nearest_neighbor is deprecated. Please use tf.compat.v1.image.resize_nearest_neighbor instead.\n",
            "\n",
            "__________________________________________________________________________________________________\n",
            "Layer (type)                    Output Shape         Param #     Connected to                     \n",
            "==================================================================================================\n",
            "input_5 (InputLayer)            (None, 256, 256, 3)  0                                            \n",
            "__________________________________________________________________________________________________\n",
            "input_4 (InputLayer)            (None, 256, 256, 3)  0                                            \n",
            "__________________________________________________________________________________________________\n",
            "binary_negation_1 (BinaryNegati (None, 256, 256, 3)  0           input_5[0][0]                    \n",
            "__________________________________________________________________________________________________\n",
            "multiply_2 (Multiply)           (None, 256, 256, 3)  0           input_4[0][0]                    \n",
            "                                                                 binary_negation_1[0][0]          \n",
            "__________________________________________________________________________________________________\n",
            "concatenate_1 (Concatenate)     (None, 256, 256, 6)  0           multiply_2[0][0]                 \n",
            "                                                                 input_5[0][0]                    \n",
            "__________________________________________________________________________________________________\n",
            "conv2d_39 (Conv2D)              (None, 256, 256, 32) 1760        concatenate_1[0][0]              \n",
            "__________________________________________________________________________________________________\n",
            "elu_26 (ELU)                    (None, 256, 256, 32) 0           conv2d_39[0][0]                  \n",
            "__________________________________________________________________________________________________\n",
            "conv2d_40 (Conv2D)              (None, 128, 128, 64) 18496       elu_26[0][0]                     \n",
            "__________________________________________________________________________________________________\n",
            "elu_27 (ELU)                    (None, 128, 128, 64) 0           conv2d_40[0][0]                  \n",
            "__________________________________________________________________________________________________\n",
            "conv2d_25 (Conv2D)              (None, 256, 256, 32) 4832        concatenate_1[0][0]              \n",
            "__________________________________________________________________________________________________\n",
            "conv2d_41 (Conv2D)              (None, 128, 128, 64) 36928       elu_27[0][0]                     \n",
            "__________________________________________________________________________________________________\n",
            "elu_12 (ELU)                    (None, 256, 256, 32) 0           conv2d_25[0][0]                  \n",
            "__________________________________________________________________________________________________\n",
            "elu_28 (ELU)                    (None, 128, 128, 64) 0           conv2d_41[0][0]                  \n",
            "__________________________________________________________________________________________________\n",
            "conv2d_26 (Conv2D)              (None, 128, 128, 64) 51264       elu_12[0][0]                     \n",
            "__________________________________________________________________________________________________\n",
            "conv2d_42 (Conv2D)              (None, 64, 64, 128)  73856       elu_28[0][0]                     \n",
            "__________________________________________________________________________________________________\n",
            "elu_13 (ELU)                    (None, 128, 128, 64) 0           conv2d_26[0][0]                  \n",
            "__________________________________________________________________________________________________\n",
            "elu_29 (ELU)                    (None, 64, 64, 128)  0           conv2d_42[0][0]                  \n",
            "__________________________________________________________________________________________________\n",
            "conv2d_27 (Conv2D)              (None, 128, 128, 64) 102464      elu_13[0][0]                     \n",
            "__________________________________________________________________________________________________\n",
            "conv2d_43 (Conv2D)              (None, 64, 64, 128)  147584      elu_29[0][0]                     \n",
            "__________________________________________________________________________________________________\n",
            "elu_14 (ELU)                    (None, 128, 128, 64) 0           conv2d_27[0][0]                  \n",
            "__________________________________________________________________________________________________\n",
            "elu_30 (ELU)                    (None, 64, 64, 128)  0           conv2d_43[0][0]                  \n",
            "__________________________________________________________________________________________________\n",
            "conv2d_13 (Conv2D)              (None, 256, 256, 32) 9440        concatenate_1[0][0]              \n",
            "__________________________________________________________________________________________________\n",
            "conv2d_28 (Conv2D)              (None, 64, 64, 128)  204928      elu_14[0][0]                     \n",
            "__________________________________________________________________________________________________\n",
            "conv2d_44 (Conv2D)              (None, 64, 64, 128)  147584      elu_30[0][0]                     \n",
            "__________________________________________________________________________________________________\n",
            "elu_1 (ELU)                     (None, 256, 256, 32) 0           conv2d_13[0][0]                  \n",
            "__________________________________________________________________________________________________\n",
            "elu_15 (ELU)                    (None, 64, 64, 128)  0           conv2d_28[0][0]                  \n",
            "__________________________________________________________________________________________________\n",
            "elu_31 (ELU)                    (None, 64, 64, 128)  0           conv2d_44[0][0]                  \n",
            "__________________________________________________________________________________________________\n",
            "conv2d_14 (Conv2D)              (None, 128, 128, 64) 100416      elu_1[0][0]                      \n",
            "__________________________________________________________________________________________________\n",
            "conv2d_29 (Conv2D)              (None, 64, 64, 128)  409728      elu_15[0][0]                     \n",
            "__________________________________________________________________________________________________\n",
            "conv2d_45 (Conv2D)              (None, 64, 64, 128)  147584      elu_31[0][0]                     \n",
            "__________________________________________________________________________________________________\n",
            "elu_2 (ELU)                     (None, 128, 128, 64) 0           conv2d_14[0][0]                  \n",
            "__________________________________________________________________________________________________\n",
            "elu_16 (ELU)                    (None, 64, 64, 128)  0           conv2d_29[0][0]                  \n",
            "__________________________________________________________________________________________________\n",
            "elu_32 (ELU)                    (None, 64, 64, 128)  0           conv2d_45[0][0]                  \n",
            "__________________________________________________________________________________________________\n",
            "conv2d_15 (Conv2D)              (None, 128, 128, 64) 200768      elu_2[0][0]                      \n",
            "__________________________________________________________________________________________________\n",
            "conv2d_30 (Conv2D)              (None, 64, 64, 128)  409728      elu_16[0][0]                     \n",
            "__________________________________________________________________________________________________\n",
            "conv2d_46 (Conv2D)              (None, 64, 64, 128)  147584      elu_32[0][0]                     \n",
            "__________________________________________________________________________________________________\n",
            "elu_3 (ELU)                     (None, 128, 128, 64) 0           conv2d_15[0][0]                  \n",
            "__________________________________________________________________________________________________\n",
            "elu_17 (ELU)                    (None, 64, 64, 128)  0           conv2d_30[0][0]                  \n",
            "__________________________________________________________________________________________________\n",
            "elu_33 (ELU)                    (None, 64, 64, 128)  0           conv2d_46[0][0]                  \n",
            "__________________________________________________________________________________________________\n",
            "conv2d_16 (Conv2D)              (None, 64, 64, 128)  401536      elu_3[0][0]                      \n",
            "__________________________________________________________________________________________________\n",
            "conv2d_31 (Conv2D)              (None, 64, 64, 128)  409728      elu_17[0][0]                     \n",
            "__________________________________________________________________________________________________\n",
            "conv2d_47 (Conv2D)              (None, 64, 64, 128)  147584      elu_33[0][0]                     \n",
            "__________________________________________________________________________________________________\n",
            "elu_4 (ELU)                     (None, 64, 64, 128)  0           conv2d_16[0][0]                  \n",
            "__________________________________________________________________________________________________\n",
            "elu_18 (ELU)                    (None, 64, 64, 128)  0           conv2d_31[0][0]                  \n",
            "__________________________________________________________________________________________________\n",
            "elu_34 (ELU)                    (None, 64, 64, 128)  0           conv2d_47[0][0]                  \n",
            "__________________________________________________________________________________________________\n",
            "conv2d_17 (Conv2D)              (None, 64, 64, 128)  802944      elu_4[0][0]                      \n",
            "__________________________________________________________________________________________________\n",
            "conv2d_32 (Conv2D)              (None, 64, 64, 128)  409728      elu_18[0][0]                     \n",
            "__________________________________________________________________________________________________\n",
            "conv2d_48 (Conv2D)              (None, 64, 64, 128)  147584      elu_34[0][0]                     \n",
            "__________________________________________________________________________________________________\n",
            "elu_5 (ELU)                     (None, 64, 64, 128)  0           conv2d_17[0][0]                  \n",
            "__________________________________________________________________________________________________\n",
            "elu_19 (ELU)                    (None, 64, 64, 128)  0           conv2d_32[0][0]                  \n",
            "__________________________________________________________________________________________________\n",
            "elu_35 (ELU)                    (None, 64, 64, 128)  0           conv2d_48[0][0]                  \n",
            "__________________________________________________________________________________________________\n",
            "conv2d_18 (Conv2D)              (None, 64, 64, 128)  802944      elu_5[0][0]                      \n",
            "__________________________________________________________________________________________________\n",
            "conv2d_33 (Conv2D)              (None, 64, 64, 128)  409728      elu_19[0][0]                     \n",
            "__________________________________________________________________________________________________\n",
            "conv2d_49 (Conv2D)              (None, 64, 64, 128)  147584      elu_35[0][0]                     \n",
            "__________________________________________________________________________________________________\n",
            "conv2d_19 (Conv2D)              (None, 64, 64, 128)  802944      conv2d_18[0][0]                  \n",
            "__________________________________________________________________________________________________\n",
            "elu_20 (ELU)                    (None, 64, 64, 128)  0           conv2d_33[0][0]                  \n",
            "__________________________________________________________________________________________________\n",
            "elu_36 (ELU)                    (None, 64, 64, 128)  0           conv2d_49[0][0]                  \n",
            "__________________________________________________________________________________________________\n",
            "elu_6 (ELU)                     (None, 64, 64, 128)  0           conv2d_19[0][0]                  \n",
            "__________________________________________________________________________________________________\n",
            "conv2d_34 (Conv2D)              (None, 64, 64, 128)  409728      elu_20[0][0]                     \n",
            "__________________________________________________________________________________________________\n",
            "conv2d_50 (Conv2D)              (None, 64, 64, 128)  147584      elu_36[0][0]                     \n",
            "__________________________________________________________________________________________________\n",
            "conv2d_20 (Conv2D)              (None, 64, 64, 128)  802944      elu_6[0][0]                      \n",
            "__________________________________________________________________________________________________\n",
            "elu_21 (ELU)                    (None, 64, 64, 128)  0           conv2d_34[0][0]                  \n",
            "__________________________________________________________________________________________________\n",
            "elu_37 (ELU)                    (None, 64, 64, 128)  0           conv2d_50[0][0]                  \n",
            "__________________________________________________________________________________________________\n",
            "elu_7 (ELU)                     (None, 64, 64, 128)  0           conv2d_20[0][0]                  \n",
            "__________________________________________________________________________________________________\n",
            "conv2d_35 (Conv2D)              (None, 64, 64, 128)  409728      elu_21[0][0]                     \n",
            "__________________________________________________________________________________________________\n",
            "up_sampling2d_4 (UpSampling2D)  (None, 128, 128, 128 0           elu_37[0][0]                     \n",
            "__________________________________________________________________________________________________\n",
            "conv2d_21 (Conv2D)              (None, 64, 64, 128)  802944      elu_7[0][0]                      \n",
            "__________________________________________________________________________________________________\n",
            "elu_22 (ELU)                    (None, 64, 64, 128)  0           conv2d_35[0][0]                  \n",
            "__________________________________________________________________________________________________\n",
            "conv2d_51 (Conv2D)              (None, 128, 128, 64) 204864      up_sampling2d_4[0][0]            \n",
            "__________________________________________________________________________________________________\n",
            "elu_8 (ELU)                     (None, 64, 64, 128)  0           conv2d_21[0][0]                  \n",
            "__________________________________________________________________________________________________\n",
            "conv2d_36 (Conv2D)              (None, 64, 64, 128)  409728      elu_22[0][0]                     \n",
            "__________________________________________________________________________________________________\n",
            "elu_38 (ELU)                    (None, 128, 128, 64) 0           conv2d_51[0][0]                  \n",
            "__________________________________________________________________________________________________\n",
            "conv2d_22 (Conv2D)              (None, 64, 64, 128)  802944      elu_8[0][0]                      \n",
            "__________________________________________________________________________________________________\n",
            "elu_23 (ELU)                    (None, 64, 64, 128)  0           conv2d_36[0][0]                  \n",
            "__________________________________________________________________________________________________\n",
            "conv2d_52 (Conv2D)              (None, 128, 128, 64) 102464      elu_38[0][0]                     \n",
            "__________________________________________________________________________________________________\n",
            "elu_9 (ELU)                     (None, 64, 64, 128)  0           conv2d_22[0][0]                  \n",
            "__________________________________________________________________________________________________\n",
            "up_sampling2d_2 (UpSampling2D)  (None, 128, 128, 128 0           elu_23[0][0]                     \n",
            "__________________________________________________________________________________________________\n",
            "elu_39 (ELU)                    (None, 128, 128, 64) 0           conv2d_52[0][0]                  \n",
            "__________________________________________________________________________________________________\n",
            "conv2d_23 (Conv2D)              (None, 64, 64, 128)  802944      elu_9[0][0]                      \n",
            "__________________________________________________________________________________________________\n",
            "conv2d_37 (Conv2D)              (None, 128, 128, 64) 204864      up_sampling2d_2[0][0]            \n",
            "__________________________________________________________________________________________________\n",
            "up_sampling2d_5 (UpSampling2D)  (None, 256, 256, 64) 0           elu_39[0][0]                     \n",
            "__________________________________________________________________________________________________\n",
            "elu_10 (ELU)                    (None, 64, 64, 128)  0           conv2d_23[0][0]                  \n",
            "__________________________________________________________________________________________________\n",
            "elu_24 (ELU)                    (None, 128, 128, 64) 0           conv2d_37[0][0]                  \n",
            "__________________________________________________________________________________________________\n",
            "conv2d_53 (Conv2D)              (None, 256, 256, 64) 36928       up_sampling2d_5[0][0]            \n",
            "__________________________________________________________________________________________________\n",
            "conv2d_24 (Conv2D)              (None, 64, 64, 128)  802944      elu_10[0][0]                     \n",
            "__________________________________________________________________________________________________\n",
            "conv2d_38 (Conv2D)              (None, 128, 128, 64) 102464      elu_24[0][0]                     \n",
            "__________________________________________________________________________________________________\n",
            "elu_40 (ELU)                    (None, 256, 256, 64) 0           conv2d_53[0][0]                  \n",
            "__________________________________________________________________________________________________\n",
            "elu_11 (ELU)                    (None, 64, 64, 128)  0           conv2d_24[0][0]                  \n",
            "__________________________________________________________________________________________________\n",
            "elu_25 (ELU)                    (None, 128, 128, 64) 0           conv2d_38[0][0]                  \n",
            "__________________________________________________________________________________________________\n",
            "conv2d_54 (Conv2D)              (None, 256, 256, 64) 36928       elu_40[0][0]                     \n",
            "__________________________________________________________________________________________________\n",
            "up_sampling2d_1 (UpSampling2D)  (None, 256, 256, 128 0           elu_11[0][0]                     \n",
            "__________________________________________________________________________________________________\n",
            "up_sampling2d_3 (UpSampling2D)  (None, 256, 256, 64) 0           elu_25[0][0]                     \n",
            "__________________________________________________________________________________________________\n",
            "elu_41 (ELU)                    (None, 256, 256, 64) 0           conv2d_54[0][0]                  \n",
            "__________________________________________________________________________________________________\n",
            "concatenate_2 (Concatenate)     (None, 256, 256, 256 0           up_sampling2d_1[0][0]            \n",
            "                                                                 up_sampling2d_3[0][0]            \n",
            "                                                                 elu_41[0][0]                     \n",
            "__________________________________________________________________________________________________\n",
            "conv2d_55 (Conv2D)              (None, 256, 256, 16) 36880       concatenate_2[0][0]              \n",
            "__________________________________________________________________________________________________\n",
            "elu_42 (ELU)                    (None, 256, 256, 16) 0           conv2d_55[0][0]                  \n",
            "__________________________________________________________________________________________________\n",
            "conv2d_56 (Conv2D)              (None, 256, 256, 3)  435         elu_42[0][0]                     \n",
            "__________________________________________________________________________________________________\n",
            "clip_1 (Clip)                   (None, 256, 256, 3)  0           conv2d_56[0][0]                  \n",
            "==================================================================================================\n",
            "Total params: 12,814,563\n",
            "Trainable params: 12,814,563\n",
            "Non-trainable params: 0\n",
            "__________________________________________________________________________________________________\n",
            "WARNING:tensorflow:From /usr/local/lib/python3.7/dist-packages/keras/optimizers.py:790: The name tf.train.Optimizer is deprecated. Please use tf.compat.v1.train.Optimizer instead.\n",
            "\n",
            "WARNING:tensorflow:From /content/inpainting-gmcnn-keras/utils/gaussian_utils.py:6: Normal.__init__ (from tensorflow.python.ops.distributions.normal) is deprecated and will be removed after 2019-01-01.\n",
            "Instructions for updating:\n",
            "The TensorFlow Distributions library has moved to TensorFlow Probability (https://github.com/tensorflow/probability). You should update all references to use `tfp.distributions` instead of `tf.distributions`.\n",
            "WARNING:tensorflow:From /usr/local/lib/python3.7/dist-packages/tensorflow_core/python/ops/distributions/normal.py:160: Distribution.__init__ (from tensorflow.python.ops.distributions.distribution) is deprecated and will be removed after 2019-01-01.\n",
            "Instructions for updating:\n",
            "The TensorFlow Distributions library has moved to TensorFlow Probability (https://github.com/tensorflow/probability). You should update all references to use `tfp.distributions` instead of `tf.distributions`.\n",
            "WARNING:tensorflow:From /usr/local/lib/python3.7/dist-packages/keras/backend/tensorflow_backend.py:3976: The name tf.nn.max_pool is deprecated. Please use tf.nn.max_pool2d instead.\n",
            "\n",
            "Downloading data from https://github.com/fchollet/deep-learning-models/releases/download/v0.1/vgg16_weights_tf_dim_ordering_tf_kernels_notop.h5\n",
            "58892288/58889256 [==============================] - 2s 0us/step\n",
            "WARNING:tensorflow:From /usr/local/lib/python3.7/dist-packages/keras/backend/tensorflow_backend.py:174: The name tf.get_default_session is deprecated. Please use tf.compat.v1.get_default_session instead.\n",
            "\n",
            "WARNING:tensorflow:From /usr/local/lib/python3.7/dist-packages/keras/backend/tensorflow_backend.py:181: The name tf.ConfigProto is deprecated. Please use tf.compat.v1.ConfigProto instead.\n",
            "\n",
            "WARNING:tensorflow:From /usr/local/lib/python3.7/dist-packages/keras/backend/tensorflow_backend.py:186: The name tf.Session is deprecated. Please use tf.compat.v1.Session instead.\n",
            "\n",
            "2022-03-14 07:31:35.235039: I tensorflow/core/platform/cpu_feature_guard.cc:142] Your CPU supports instructions that this TensorFlow binary was not compiled to use: AVX2 FMA\n",
            "2022-03-14 07:31:35.242039: I tensorflow/core/platform/profile_utils/cpu_utils.cc:94] CPU Frequency: 2299995000 Hz\n",
            "2022-03-14 07:31:35.242259: I tensorflow/compiler/xla/service/service.cc:168] XLA service 0x55f100fc2380 initialized for platform Host (this does not guarantee that XLA will be used). Devices:\n",
            "2022-03-14 07:31:35.242312: I tensorflow/compiler/xla/service/service.cc:176]   StreamExecutor device (0): Host, Default Version\n",
            "2022-03-14 07:31:35.244280: I tensorflow/stream_executor/platform/default/dso_loader.cc:44] Successfully opened dynamic library libcuda.so.1\n",
            "2022-03-14 07:31:35.439113: I tensorflow/stream_executor/cuda/cuda_gpu_executor.cc:983] successful NUMA node read from SysFS had negative value (-1), but there must be at least one NUMA node, so returning NUMA node zero\n",
            "2022-03-14 07:31:35.440024: I tensorflow/compiler/xla/service/service.cc:168] XLA service 0x55f100fc28c0 initialized for platform CUDA (this does not guarantee that XLA will be used). Devices:\n",
            "2022-03-14 07:31:35.440068: I tensorflow/compiler/xla/service/service.cc:176]   StreamExecutor device (0): Tesla K80, Compute Capability 3.7\n",
            "2022-03-14 07:31:35.441293: I tensorflow/stream_executor/cuda/cuda_gpu_executor.cc:983] successful NUMA node read from SysFS had negative value (-1), but there must be at least one NUMA node, so returning NUMA node zero\n",
            "2022-03-14 07:31:35.442027: I tensorflow/core/common_runtime/gpu/gpu_device.cc:1618] Found device 0 with properties: \n",
            "name: Tesla K80 major: 3 minor: 7 memoryClockRate(GHz): 0.8235\n",
            "pciBusID: 0000:00:04.0\n",
            "2022-03-14 07:31:35.454431: I tensorflow/stream_executor/platform/default/dso_loader.cc:44] Successfully opened dynamic library libcudart.so.10.0\n",
            "2022-03-14 07:31:35.601936: I tensorflow/stream_executor/platform/default/dso_loader.cc:44] Successfully opened dynamic library libcublas.so.10.0\n",
            "2022-03-14 07:31:35.665191: I tensorflow/stream_executor/platform/default/dso_loader.cc:44] Successfully opened dynamic library libcufft.so.10.0\n",
            "2022-03-14 07:31:35.683891: I tensorflow/stream_executor/platform/default/dso_loader.cc:44] Successfully opened dynamic library libcurand.so.10.0\n",
            "2022-03-14 07:31:35.856904: I tensorflow/stream_executor/platform/default/dso_loader.cc:44] Successfully opened dynamic library libcusolver.so.10.0\n",
            "2022-03-14 07:31:35.954533: I tensorflow/stream_executor/platform/default/dso_loader.cc:44] Successfully opened dynamic library libcusparse.so.10.0\n",
            "2022-03-14 07:31:36.292115: I tensorflow/stream_executor/platform/default/dso_loader.cc:44] Successfully opened dynamic library libcudnn.so.7\n",
            "2022-03-14 07:31:36.292314: I tensorflow/stream_executor/cuda/cuda_gpu_executor.cc:983] successful NUMA node read from SysFS had negative value (-1), but there must be at least one NUMA node, so returning NUMA node zero\n",
            "2022-03-14 07:31:36.293280: I tensorflow/stream_executor/cuda/cuda_gpu_executor.cc:983] successful NUMA node read from SysFS had negative value (-1), but there must be at least one NUMA node, so returning NUMA node zero\n",
            "2022-03-14 07:31:36.294142: I tensorflow/core/common_runtime/gpu/gpu_device.cc:1746] Adding visible gpu devices: 0\n",
            "2022-03-14 07:31:36.294282: I tensorflow/stream_executor/platform/default/dso_loader.cc:44] Successfully opened dynamic library libcudart.so.10.0\n",
            "2022-03-14 07:31:36.296083: I tensorflow/core/common_runtime/gpu/gpu_device.cc:1159] Device interconnect StreamExecutor with strength 1 edge matrix:\n",
            "2022-03-14 07:31:36.296120: I tensorflow/core/common_runtime/gpu/gpu_device.cc:1165]      0 \n",
            "2022-03-14 07:31:36.296139: I tensorflow/core/common_runtime/gpu/gpu_device.cc:1178] 0:   N \n",
            "2022-03-14 07:31:36.296304: I tensorflow/stream_executor/cuda/cuda_gpu_executor.cc:983] successful NUMA node read from SysFS had negative value (-1), but there must be at least one NUMA node, so returning NUMA node zero\n",
            "2022-03-14 07:31:36.297050: I tensorflow/stream_executor/cuda/cuda_gpu_executor.cc:983] successful NUMA node read from SysFS had negative value (-1), but there must be at least one NUMA node, so returning NUMA node zero\n",
            "2022-03-14 07:31:36.297688: W tensorflow/core/common_runtime/gpu/gpu_bfc_allocator.cc:39] Overriding allow_growth setting because the TF_FORCE_GPU_ALLOW_GROWTH environment variable is set. Original config value was 0.\n",
            "2022-03-14 07:31:36.297739: I tensorflow/core/common_runtime/gpu/gpu_device.cc:1304] Created TensorFlow device (/job:localhost/replica:0/task:0/device:GPU:0 with 10813 MB memory) -> physical GPU (device: 0, name: Tesla K80, pci bus id: 0000:00:04.0, compute capability: 3.7)\n",
            "WARNING:tensorflow:From /usr/local/lib/python3.7/dist-packages/keras/backend/tensorflow_backend.py:190: The name tf.global_variables is deprecated. Please use tf.compat.v1.global_variables instead.\n",
            "\n",
            "WARNING:tensorflow:From /usr/local/lib/python3.7/dist-packages/keras/backend/tensorflow_backend.py:199: The name tf.is_variable_initialized is deprecated. Please use tf.compat.v1.is_variable_initialized instead.\n",
            "\n",
            "WARNING:tensorflow:From /usr/local/lib/python3.7/dist-packages/keras/backend/tensorflow_backend.py:206: The name tf.variables_initializer is deprecated. Please use tf.compat.v1.variables_initializer instead.\n",
            "\n",
            "INFO:tensorflow: #### Skipping random pooling ...\n",
            "WARNING:tensorflow:From /content/inpainting-gmcnn-keras/utils/contextual_similarity_utills.py:62: calling extract_image_patches (from tensorflow.python.ops.array_ops) with ksizes is deprecated and will be removed in a future version.\n",
            "Instructions for updating:\n",
            "ksizes is deprecated, use sizes instead\n",
            "WARNING:tensorflow:From /content/inpainting-gmcnn-keras/utils/id_mrf.py:51: The name tf.log is deprecated. Please use tf.math.log instead.\n",
            "\n",
            "INFO:tensorflow: #### Skipping random pooling ...\n",
            "INFO:tensorflow: #### pooling 65x65 out of 128x128\n",
            "WARNING:tensorflow:From /content/inpainting-gmcnn-keras/utils/sampling_utils.py:36: The name tf.random_shuffle is deprecated. Please use tf.random.shuffle instead.\n",
            "\n",
            "INFO:tensorflow:Continue training from checkpoint...\n",
            "Traceback (most recent call last):\n",
            "  File \"inpainting-gmcnn-keras/runner.py\", line 105, in <module>\n",
            "    main()\n",
            "  File \"inpainting-gmcnn-keras/runner.py\", line 68, in main\n",
            "    gmcnn_gan_model.load()\n",
            "  File \"/content/inpainting-gmcnn-keras/models/wgan.py\", line 99, in load\n",
            "    self.generator.load_weights(self.generator_weights_path, by_name=True, skip_mismatch=True)\n",
            "  File \"/usr/local/lib/python3.7/dist-packages/keras/engine/network.py\", line 1157, in load_weights\n",
            "    with h5py.File(filepath, mode='r') as f:\n",
            "  File \"/usr/local/lib/python3.7/dist-packages/h5py/_hl/files.py\", line 394, in __init__\n",
            "    swmr=swmr)\n",
            "  File \"/usr/local/lib/python3.7/dist-packages/h5py/_hl/files.py\", line 170, in make_fid\n",
            "    fid = h5f.open(name, flags, fapl=fapl)\n",
            "  File \"h5py/_objects.pyx\", line 54, in h5py._objects.with_phil.wrapper\n",
            "  File \"h5py/_objects.pyx\", line 55, in h5py._objects.with_phil.wrapper\n",
            "  File \"h5py/h5f.pyx\", line 85, in h5py.h5f.open\n",
            "OSError: Unable to open file (unable to open file: name = './outputs/gmcnn256x256/weights/gmcnn.h5', errno = 2, error message = 'No such file or directory', flags = 0, o_flags = 0)\n"
          ]
        }
      ]
    },
    {
      "cell_type": "markdown",
      "metadata": {
        "id": "UrBtvFhM4X3D"
      },
      "source": [
        "# Vizualise results of full model training"
      ]
    },
    {
      "cell_type": "code",
      "metadata": {
        "id": "rkW2zttf4hsM"
      },
      "source": [
        "!ls outputs/gmcnn256x256/predicted_pics/wgan/"
      ],
      "execution_count": null,
      "outputs": []
    },
    {
      "cell_type": "code",
      "metadata": {
        "id": "VNdxEky14rUl"
      },
      "source": [
        "Image('outputs/gmcnn256x256/predicted_pics/wgan/step_1000.png')"
      ],
      "execution_count": null,
      "outputs": []
    },
    {
      "cell_type": "code",
      "metadata": {
        "id": "xHwsortY4rdv"
      },
      "source": [
        "Image('outputs/gmcnn256x256/predicted_pics/wgan/step_2000.png')"
      ],
      "execution_count": null,
      "outputs": []
    },
    {
      "cell_type": "markdown",
      "metadata": {
        "id": "0A4AkCL_stHb"
      },
      "source": [
        "# Create zip file with model results and checkpoints"
      ]
    },
    {
      "cell_type": "code",
      "metadata": {
        "id": "pwuzAQM61j4c"
      },
      "source": [
        "!zip -r outputs.zip outputs"
      ],
      "execution_count": null,
      "outputs": []
    },
    {
      "cell_type": "code",
      "metadata": {
        "id": "v5SmLkQmDq_A"
      },
      "source": [
        "ls"
      ],
      "execution_count": null,
      "outputs": []
    },
    {
      "cell_type": "code",
      "metadata": {
        "id": "6l9xPZjVPTzt"
      },
      "source": [
        "!rm -rf outputs/"
      ],
      "execution_count": null,
      "outputs": []
    },
    {
      "cell_type": "code",
      "metadata": {
        "id": "taoxlCBuRICF"
      },
      "source": [
        "!python inpainting-gmcnn-keras/runner.py --train_path images --mask_path mask -warm_up_generator -from_weights"
      ],
      "execution_count": null,
      "outputs": []
    },
    {
      "cell_type": "markdown",
      "metadata": {
        "id": "mdqxD2T-s_xB"
      },
      "source": [
        "In order to download model result go to: Files -> content, right click on outputs.zip -> Download"
      ]
    }
  ]
}